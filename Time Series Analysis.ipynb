{
 "cells": [
  {
   "cell_type": "markdown",
   "metadata": {},
   "source": [
    "### Analysis using SARIMAX model for Time Series"
   ]
  },
  {
   "cell_type": "code",
   "execution_count": null,
   "metadata": {},
   "outputs": [],
   "source": [
    "import pandas as pd\n",
    "import numpy as np\n",
    "import statsmodels.api as sm\n",
    "import matplotlib.dates as mdates\n",
    "import warnings\n",
    "\n",
    "from matplotlib import pyplot as plt\n",
    "from sklearn.preprocessing import MinMaxScaler\n",
    "from statsmodels.graphics.tsaplots import plot_acf\n",
    "from statsmodels.graphics.tsaplots import plot_pacf"
   ]
  },
  {
   "cell_type": "code",
   "execution_count": null,
   "metadata": {},
   "outputs": [],
   "source": [
    "# Ignoring warnings\n",
    "warnings.filterwarnings(\"ignore\")\n",
    "\n",
    "# Matplotlib styles\n",
    "plt.style.use('ggplot')\n",
    "plt.rcParams.update({\n",
    "    'figure.figsize': (15, 4),\n",
    "    'axes.prop_cycle': plt.cycler(color=[\"#4C72B0\", \"#C44E52\", \"#55A868\", \"#8172B2\", \"#CCB974\", \"#64B5CD\"]),\n",
    "    'axes.facecolor': \"#EAEAF2\"\n",
    "})\n",
    "%matplotlib inline"
   ]
  },
  {
   "cell_type": "markdown",
   "metadata": {},
   "source": [
    "#### Importing already collected data"
   ]
  },
  {
   "cell_type": "code",
   "execution_count": null,
   "metadata": {},
   "outputs": [],
   "source": [
    "df_daily = pd.read_csv(\"./datasets/proc/daily_variables.csv.zip\", index_col = 0, parse_dates=[\"date\"])\n",
    "df_monthly = pd.read_csv(\"./datasets/proc/monthly_variables.csv.zip\", index_col = 0, parse_dates=[\"date\"])"
   ]
  },
  {
   "cell_type": "markdown",
   "metadata": {},
   "source": [
    "#### Preprocessing for the analysis"
   ]
  },
  {
   "cell_type": "code",
   "execution_count": null,
   "metadata": {},
   "outputs": [],
   "source": [
    "# Scaling values\n",
    "df_daily[df_daily.set_index('date').columns] = MinMaxScaler().fit_transform(df_daily[df_daily.set_index('date').columns])\n",
    "df_monthly[df_monthly.set_index('date').columns] = MinMaxScaler().fit_transform(df_monthly[df_monthly.set_index('date').columns])"
   ]
  },
  {
   "cell_type": "code",
   "execution_count": null,
   "metadata": {},
   "outputs": [],
   "source": [
    "figure, axs = plt.subplots(7,2,figsize=(15,30))\n",
    "\n",
    "for i in range(7):\n",
    "    current_column = df_daily.set_index(\"date\").columns[i]\n",
    "    data = np.asarray(df_monthly[current_column])\n",
    "    data_disl = data[1:]\n",
    "    data_trunc = data[:-1]\n",
    "    data_diff = data_disl - data_trunc\n",
    "    plot_acf(data, lags=100, ax=axs[i,0], title=f\"Autocorrelation for {current_column}\")\n",
    "    plot_acf(data_diff, lags=100, ax=axs[i,1], title=f\"Autocorrelation for differentiated {current_column}\")\n",
    "\n",
    "plt.show()"
   ]
  },
  {
   "cell_type": "code",
   "execution_count": null,
   "metadata": {},
   "outputs": [],
   "source": [
    "figure, axs = plt.subplots(7,2,figsize=(15,30))\n",
    "\n",
    "for i in range(7):\n",
    "    current_column = df_daily.set_index(\"date\").columns[i]\n",
    "    data = np.asarray(df_monthly[current_column])\n",
    "    data_disl = data[1:]\n",
    "    data_trunc = data[:-1]\n",
    "    data_diff = data_disl - data_trunc\n",
    "    plot_pacf(data, lags=77, ax=axs[i,0], title=f\"PACF {current_column}\")\n",
    "    plot_pacf(data_diff, lags=77, ax=axs[i,1], title=f\"PACF differentiated {current_column}\")\n",
    "\n",
    "plt.show()"
   ]
  },
  {
   "cell_type": "code",
   "execution_count": null,
   "metadata": {
    "scrolled": false
   },
   "outputs": [],
   "source": [
    "figure, axs = plt.subplots(7,1,figsize=(15,45))\n",
    "\n",
    "for i in range(7):\n",
    "    current_column = df_daily.set_index(\"date\").columns[i]\n",
    "    axs[i].plot(df_monthly[\"date\"], df_monthly[\"SELIC\"], label=\"SELIC\")\n",
    "    axs[i].plot(df_monthly[\"date\"], df_monthly[current_column], label=f\"{current_column}\")\n",
    "    axs[i].set_title(f\"SELIC and {current_column}\")\n",
    "    axs[i].legend()\n",
    "    axs[i].tick_params(axis='x', labelrotation=45)\n",
    "    axs[i].xaxis.set_major_locator(mdates.MonthLocator(interval=6))\n",
    "    axs[i].xaxis.set_major_formatter(mdates.DateFormatter(\"%m-%Y\"))\n",
    "plt.show()"
   ]
  },
  {
   "cell_type": "markdown",
   "metadata": {},
   "source": [
    "### Performing Time Series Analysis"
   ]
  },
  {
   "cell_type": "markdown",
   "metadata": {},
   "source": [
    "### ICON"
   ]
  },
  {
   "cell_type": "code",
   "execution_count": null,
   "metadata": {},
   "outputs": [],
   "source": [
    "ps = range(3)\n",
    "qs = range(3)\n",
    "\n",
    "ps_season = range(3)\n",
    "qs_season = range(3)\n",
    "\n",
    "minAIC, best_parameters, best_model = (float('inf'), (-10,-10), None) \n",
    "\n",
    "for p,q,p_season,q_season in [(i, j, k, l) for i in ps for j in qs for k in ps_season for l in qs_season]:\n",
    "    \n",
    "    model = sm.tsa.statespace.SARIMAX(df_monthly[\"ICON\"], df_monthly[[\"DOLLAR\", \"GDP\", \"IPCA\", \"SELIC\", \"VIX\"]], order=(p, 1, q), seasonal_order=(\n",
    "    p_season, 1, q_season, 12), trend='t', enforce_inversibility=False, enforce_stationarity=False, simple_differencing=True)\n",
    "    result = model.fit()\n",
    "    print(f\"\\rFor parameters ({p},1,{q})x({p},1,{q},12) -> AIC: {result.aic}\", end=\"\")\n",
    "    if result.aic < minAIC:\n",
    "        minAIC = result.aic\n",
    "        best_parameters = (p,q)\n",
    "        best_model = result\n",
    "\n",
    "print()\n",
    "print(best_model.summary())"
   ]
  },
  {
   "cell_type": "markdown",
   "metadata": {},
   "source": [
    "### IEEX"
   ]
  },
  {
   "cell_type": "code",
   "execution_count": null,
   "metadata": {},
   "outputs": [],
   "source": [
    "ps = range(3)\n",
    "qs = range(3)\n",
    "\n",
    "ps_season = range(3)\n",
    "qs_season = range(3)\n",
    "\n",
    "minAIC, best_parameters, best_model = (float('inf'), (-10,-10), None) \n",
    "\n",
    "for p,q,p_season,q_season in [(i, j, k, l) for i in ps for j in qs for k in ps_season for l in qs_season]:\n",
    "    \n",
    "    model = sm.tsa.statespace.SARIMAX(df_monthly[\"IEEX\"], df_monthly[[\"DOLLAR\", \"GDP\", \"IPCA\", \"SELIC\", \"VIX\"]], order=(p, 1, q), seasonal_order=(\n",
    "    p_season, 1, q_season, 12), trend='t', enforce_inversibility=False, enforce_stationarity=False, simple_differencing=True)\n",
    "    result = model.fit()\n",
    "    print(f\"\\rFor parameters ({p},1,{q})x({p},1,{q},12) -> AIC: {result.aic}\", end=\"\")\n",
    "    if result.aic < minAIC:\n",
    "        minAIC = result.aic\n",
    "        best_parameters = (p,q)\n",
    "        best_model = result\n",
    "\n",
    "print()\n",
    "print(best_model.summary())"
   ]
  },
  {
   "cell_type": "markdown",
   "metadata": {},
   "source": [
    "### IFNC"
   ]
  },
  {
   "cell_type": "code",
   "execution_count": null,
   "metadata": {},
   "outputs": [],
   "source": [
    "ps = range(3)\n",
    "qs = range(3)\n",
    "\n",
    "ps_season = range(3)\n",
    "qs_season = range(3)\n",
    "\n",
    "minAIC, best_parameters, best_model = (float('inf'), (-10,-10), None) \n",
    "\n",
    "for p,q,p_season,q_season in [(i, j, k, l) for i in ps for j in qs for k in ps_season for l in qs_season]:\n",
    "    \n",
    "    model = sm.tsa.statespace.SARIMAX(df_monthly[\"IFNC\"], df_monthly[[\"DOLLAR\", \"GDP\", \"IPCA\", \"SELIC\", \"VIX\"]], order=(p, 1, q), seasonal_order=(\n",
    "    p_season, 1, q_season, 12), trend='t', enforce_inversibility=False, enforce_stationarity=False, simple_differencing=True)\n",
    "    result = model.fit()\n",
    "    print(f\"\\rFor parameters ({p},1,{q})x({p},1,{q},12) -> AIC: {result.aic}\", end=\"\")\n",
    "    if result.aic < minAIC:\n",
    "        minAIC = result.aic\n",
    "        best_parameters = (p,q)\n",
    "        best_model = result\n",
    "\n",
    "print()\n",
    "print(best_model.summary())"
   ]
  },
  {
   "cell_type": "markdown",
   "metadata": {},
   "source": [
    "### IMAT"
   ]
  },
  {
   "cell_type": "code",
   "execution_count": null,
   "metadata": {},
   "outputs": [],
   "source": [
    "ps = range(3)\n",
    "qs = range(3)\n",
    "\n",
    "ps_season = range(3)\n",
    "qs_season = range(3)\n",
    "\n",
    "minAIC, best_parameters, best_model = (float('inf'), (-10,-10), None) \n",
    "\n",
    "for p,q,p_season,q_season in [(i, j, k, l) for i in ps for j in qs for k in ps_season for l in qs_season]:\n",
    "    \n",
    "    model = sm.tsa.statespace.SARIMAX(df_monthly[\"IMAT\"], df_monthly[[\"DOLLAR\", \"GDP\", \"IPCA\", \"SELIC\", \"VIX\"]], order=(p, 1, q), seasonal_order=(\n",
    "    p_season, 1, q_season, 12), trend='t', enforce_inversibility=False, enforce_stationarity=False, simple_differencing=True)\n",
    "    result = model.fit()\n",
    "    print(f\"\\rFor parameters ({p},1,{q})x({p},1,{q},12) -> AIC: {result.aic}\", end=\"\")\n",
    "    if result.aic < minAIC:\n",
    "        minAIC = result.aic\n",
    "        best_parameters = (p,q)\n",
    "        best_model = result\n",
    "\n",
    "print()\n",
    "print(best_model.summary())"
   ]
  },
  {
   "cell_type": "markdown",
   "metadata": {},
   "source": [
    "### IMOB"
   ]
  },
  {
   "cell_type": "code",
   "execution_count": null,
   "metadata": {},
   "outputs": [],
   "source": [
    "ps = range(3)\n",
    "qs = range(3)\n",
    "\n",
    "ps_season = range(3)\n",
    "qs_season = range(3)\n",
    "\n",
    "minAIC, best_parameters, best_model = (float('inf'), (-10,-10), None) \n",
    "\n",
    "for p,q,p_season,q_season in [(i, j, k, l) for i in ps for j in qs for k in ps_season for l in qs_season]:\n",
    "    \n",
    "    model = sm.tsa.statespace.SARIMAX(df_monthly[\"IMOB\"], df_monthly[[\"DOLLAR\", \"GDP\", \"IPCA\", \"SELIC\", \"VIX\"]], order=(p, 1, q), seasonal_order=(\n",
    "    p_season, 1, q_season, 12), trend='t', enforce_inversibility=False, enforce_stationarity=False, simple_differencing=True)\n",
    "    result = model.fit()\n",
    "    print(f\"\\rFor parameters ({p},1,{q})x({p},1,{q},12) -> AIC: {result.aic}\", end=\"\")\n",
    "    if result.aic < minAIC:\n",
    "        minAIC = result.aic\n",
    "        best_parameters = (p,q)\n",
    "        best_model = result\n",
    "\n",
    "print()\n",
    "print(best_model.summary())"
   ]
  },
  {
   "cell_type": "markdown",
   "metadata": {},
   "source": [
    "### INDX"
   ]
  },
  {
   "cell_type": "code",
   "execution_count": null,
   "metadata": {},
   "outputs": [],
   "source": [
    "ps = range(3)\n",
    "qs = range(3)\n",
    "\n",
    "ps_season = range(3)\n",
    "qs_season = range(3)\n",
    "\n",
    "minAIC, best_parameters, best_model = (float('inf'), (-10,-10), None) \n",
    "\n",
    "for p,q,p_season,q_season in [(i, j, k, l) for i in ps for j in qs for k in ps_season for l in qs_season]:\n",
    "    \n",
    "    model = sm.tsa.statespace.SARIMAX(df_monthly[\"INDX\"], df_monthly[[\"DOLLAR\", \"GDP\", \"IPCA\", \"SELIC\", \"VIX\"]], order=(p, 1, q), seasonal_order=(\n",
    "    p_season, 1, q_season, 12), trend='t', enforce_inversibility=False, enforce_stationarity=False, simple_differencing=True)\n",
    "    result = model.fit()\n",
    "    print(f\"\\rFor parameters ({p},1,{q})x({p},1,{q},12) -> AIC: {result.aic}\", end=\"\")\n",
    "    if result.aic < minAIC:\n",
    "        minAIC = result.aic\n",
    "        best_parameters = (p,q)\n",
    "        best_model = result\n",
    "\n",
    "print()\n",
    "print(best_model.summary())"
   ]
  },
  {
   "cell_type": "markdown",
   "metadata": {},
   "source": [
    "### UTIL"
   ]
  },
  {
   "cell_type": "code",
   "execution_count": null,
   "metadata": {},
   "outputs": [],
   "source": [
    "ps = range(3)\n",
    "qs = range(3)\n",
    "\n",
    "ps_season = range(3)\n",
    "qs_season = range(3)\n",
    "\n",
    "minAIC, best_parameters, best_model = (float('inf'), (-10,-10), None) \n",
    "\n",
    "for p,q,p_season,q_season in [(i, j, k, l) for i in ps for j in qs for k in ps_season for l in qs_season]:\n",
    "    \n",
    "    model = sm.tsa.statespace.SARIMAX(df_monthly[\"UTIL\"], df_monthly[[\"DOLLAR\", \"GDP\", \"IPCA\", \"SELIC\", \"VIX\"]], order=(p, 1, q), seasonal_order=(\n",
    "    p_season, 1, q_season, 12), trend='t', enforce_inversibility=False, enforce_stationarity=False, simple_differencing=True)\n",
    "    result = model.fit()\n",
    "    print(f\"\\rFor parameters ({p},1,{q})x({p},1,{q},12) -> AIC: {result.aic}\", end=\"\")\n",
    "    if result.aic < minAIC:\n",
    "        minAIC = result.aic\n",
    "        best_parameters = (p,q)\n",
    "        best_model = result\n",
    "\n",
    "print()\n",
    "print(best_model.summary())"
   ]
  }
 ],
 "metadata": {
  "kernelspec": {
   "display_name": "Python 3",
   "language": "python",
   "name": "python3"
  },
  "language_info": {
   "codemirror_mode": {
    "name": "ipython",
    "version": 3
   },
   "file_extension": ".py",
   "mimetype": "text/x-python",
   "name": "python",
   "nbconvert_exporter": "python",
   "pygments_lexer": "ipython3",
   "version": "3.8.5"
  }
 },
 "nbformat": 4,
 "nbformat_minor": 4
}
