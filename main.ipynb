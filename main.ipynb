{
 "cells": [
  {
   "cell_type": "markdown",
   "metadata": {},
   "source": [
    "# The Impact of Lower Interest Rates in Brazilian Stock Market\n",
    "\n",
    "*By Daniel Deutsch, José Lucas Barretto, Kevin kuhl and Lucas Miguel Agrizzi*"
   ]
  },
  {
   "cell_type": "code",
   "execution_count": 29,
   "metadata": {},
   "outputs": [],
   "source": [
    "import os\n",
    "import time\n",
    "from datetime import date\n",
    "\n",
    "import matplotlib.pyplot as plt\n",
    "import pandas as pd\n",
    "import requests\n",
    "import yfinance as yf\n",
    "from requests.packages.urllib3.exceptions import InsecureRequestWarning"
   ]
  },
  {
   "cell_type": "code",
   "execution_count": 3,
   "metadata": {},
   "outputs": [],
   "source": [
    "requests.packages.urllib3.disable_warnings(InsecureRequestWarning)"
   ]
  },
  {
   "cell_type": "markdown",
   "metadata": {},
   "source": [
    "# Data Collection\n",
    "\n",
    "In this stage, we want to collect the data necessary for our analysis. In our case, we must collect two kinds of data: Indexes of (which kind? why?) and stock information about the indexes."
   ]
  },
  {
   "cell_type": "markdown",
   "metadata": {},
   "source": [
    "## Indexes Collection\n",
    "\n",
    "Indexes are basically .... (explicar o que são indexes e porque eles serão utilizados na nossa análise).\n",
    "\n",
    "Given that, the group decided to understand the effects of the index rate on the following indexes (because we considered them the most influential in the brazillian market):\n",
    "\n",
    "| Index Acronym | Index Name                  | URL           | Sector  |\n",
    "|:------------- |:----------------------------|:--------------|:-------|\n",
    "| ICON          | Índice de Consumo           | right-aligned | $1600 |\n",
    "| IEEX          | Índice de Energia Elétrica  | centered      |   $12 |\n",
    "| IFNC          | Índice Financeiro           | are neat      |    $1 |\n",
    "| IMAT          | Índice de Materiais Básicos | are neat      |    $1 |\n",
    "| IMOB          | Índice Imobiliário          | are neat      |    $1 |\n",
    "| INDX          | Índice Industrial           | are neat      |    $1 |\n",
    "| UTIL          | Índice Utilidade Pública    | are neat      |    $1 |"
   ]
  },
  {
   "cell_type": "code",
   "execution_count": null,
   "metadata": {
    "tags": []
   },
   "outputs": [],
   "source": [
    "indexes = [\n",
    "    { 'index': \"ICON\", 'url_code': \"klDT04\" },\n",
    "    { 'index': \"IEEX\", 'url_code': \"klFRVg\" },\n",
    "    { 'index': \"IFNC\", 'url_code': \"klGTkM\" },\n",
    "    { 'index': \"IMAT\", 'url_code': \"klNQVQ\" },\n",
    "    { 'index': \"IMOB\", 'url_code': \"klNT0I\" },\n",
    "    { 'index': \"INDX\", 'url_code': \"klORFg\" },\n",
    "    { 'index': \"UTIL\", 'url_code': \"lVUSUw\" }\n",
    "]\n",
    "\n",
    "years = [\n",
    "    { 'year': \"2021\", 'url_code': \"IwMjE\" },\n",
    "    { 'year': \"2020\", 'url_code': \"IwMjA\" },\n",
    "    { 'year': \"2019\", 'url_code': \"IwMTk\" },\n",
    "    { 'year': \"2018\", 'url_code': \"IwMTg\" },\n",
    "    { 'year': \"2017\", 'url_code': \"IwMTc\" },\n",
    "    { 'year': \"2016\", 'url_code': \"IwMTY\" },\n",
    "    { 'year': \"2015\", 'url_code': \"IwMTU\" },\n",
    "    { 'year': \"2014\", 'url_code': \"IwMTQ\" },\n",
    "    { 'year': \"2013\", 'url_code': \"IwMTM\" },\n",
    "    { 'year': \"2012\", 'url_code': \"IwMTI\" },\n",
    "    { 'year': \"2011\", 'url_code': \"IwMTE\" },\n",
    "    { 'year': \"2010\", 'url_code': \"IwMTA\" },\n",
    "    { 'year': \"2009\", 'url_code': \"IwMDk\" },\n",
    "    { 'year': \"2008\", 'url_code': \"IwMDg\" },\n",
    "    { 'year': \"2007\", 'url_code': \"IwMDc\" },\n",
    "    { 'year': \"2006\", 'url_code': \"IwMDY\" },\n",
    "    { 'year': \"2005\", 'url_code': \"IwMDU\" },\n",
    "    { 'year': \"2004\", 'url_code': \"IwMDQ\" },\n",
    "    { 'year': \"2003\", 'url_code': \"IwMDM\" },\n",
    "    { 'year': \"2002\", 'url_code': \"IwMDI\" },\n",
    "    { 'year': \"2001\", 'url_code': \"IwMDE\" },\n",
    "    { 'year': \"2000\", 'url_code': \"IwMDA\" },\n",
    "    { 'year': \"1999\", 'url_code': \"E5OTk\" },\n",
    "    { 'year': \"1998\", 'url_code': \"E5OTg\" }\n",
    "]\n",
    "\n",
    "url_base = \"https://sistemaswebb3-listados.b3.com.br/indexStatisticsProxy/IndexCall/GetPortfolioDay/eyJpbmRleCI6I%siLCJsYW5ndWFnZSI6InB0LWJyIiwieWVhciI6Ij%sifQ==\"\n",
    "\n",
    "df = pd.DataFrame(columns=['date', 'index', 'rate_value'])\n",
    "for i_id, index in enumerate(indexes):\n",
    "    for y_id, year in enumerate(years):\n",
    "        #time.sleep(2)\n",
    "        r = requests.get(url_base % (index['url_code'], year['url_code']), verify=False)\n",
    "        try:\n",
    "            print(f\"\\rIndexes: {i_id+1}/{len(indexes)} Years: {y_id+1}/{len(years)}\", end=\"\")\n",
    "            r = r.json()\n",
    "        except Exception:\n",
    "            print(f\"Error with index {index['index']} year {year['year']}\")\n",
    "        else:\n",
    "            if r['results']:\n",
    "                for result in r['results']:\n",
    "                    day = result['day']\n",
    "                    for key, val in result.items():\n",
    "                        if key != \"day\":\n",
    "                            df = pd.concat(\n",
    "                                [\n",
    "                                    df, \n",
    "                                    pd.DataFrame({\n",
    "                                        'date': f\"{year['year']}-{int(key[9:]):02d}-{day:02d}\", \n",
    "                                        'index': [index['index']], \n",
    "                                        'rate_value': [float(val.replace('.', '').replace(',', '.'))] if val else [val]\n",
    "                                    })\n",
    "                                ], \n",
    "                                ignore_index=True\n",
    "                            )\n",
    "\n",
    "df.dropna(inplace=True)\n",
    "df.sort_values(by=['date', 'index', 'rate_value'], inplace=True, ignore_index=True)\n",
    "df.to_csv(\"./datasets/indexes.csv.zip\")"
   ]
  },
  {
   "cell_type": "markdown",
   "metadata": {},
   "source": [
    "### Macroeconomic Indicators"
   ]
  },
  {
   "cell_type": "code",
   "execution_count": 82,
   "metadata": {},
   "outputs": [],
   "source": [
    "url_selic = 'http://api.bcb.gov.br/dados/serie/bcdata.sgs.11/dados?formato=csv'\n",
    "\n",
    "selic_df = pd.read_csv(url_selic,\n",
    "                       header=0,\n",
    "                       names = ['date', 'pct_value'],\n",
    "                       delimiter=';',\n",
    "                       index_col='date',\n",
    "                       decimal=',',\n",
    "                       parse_dates=[0])"
   ]
  },
  {
   "cell_type": "code",
   "execution_count": 139,
   "metadata": {},
   "outputs": [],
   "source": [
    "url_ipca = 'https://apisidra.ibge.gov.br/values/t/1737/n1/all/v/all/p/all/d/v63%202,v69%202,v2266%2013,v2263%202,v2264%202,v2265%202?formato=json'\n",
    "\n",
    "ipca_df = pd.read_json(url_ipca)\n",
    "ipca_df.drop([0], inplace = True)\n",
    "\n",
    "mask = (ipca_df['MN'] == '%')\n",
    "ipca_df = ipca_df[mask]\n",
    "\n",
    "ipca_df.rename(columns={'D3C': 'date'}, inplace=True)\n",
    "ipca_df['date'] = pd.to_datetime(ipca_df['date'], format='%Y%m')\n",
    "ipca_df['V'] = pd.to_numeric(ipca_df['V'])\n",
    "ipca_df.set_index('date', inplace=True)\n",
    "\n",
    "mask = (ipca_df['D2N'] == 'IPCA - Variação mensal')\n",
    "ipca_pct_change = ipca_df[mask][['V']].rename(columns={'V': 'pct_change'})\n",
    "\n",
    "mask = (ipca_df['D2N'] == 'IPCA - Variação acumulada no ano')\n",
    "ipca_annual_cumulative = ipca_df[mask][['V']].rename(columns={'V': 'cumulative_change'})\n",
    "\n",
    "ipca_df = pd.concat([ipca_pct_change, ipca_annual_cumulative], axis=1)"
   ]
  },
  {
   "cell_type": "markdown",
   "metadata": {},
   "source": [
    "# Data Analysis"
   ]
  }
 ],
 "metadata": {
  "kernelspec": {
   "display_name": "Python [conda env:study] *",
   "language": "python",
   "name": "conda-env-study-py"
  },
  "language_info": {
   "codemirror_mode": {
    "name": "ipython",
    "version": 3
   },
   "file_extension": ".py",
   "mimetype": "text/x-python",
   "name": "python",
   "nbconvert_exporter": "python",
   "pygments_lexer": "ipython3",
   "version": "3.7.9"
  }
 },
 "nbformat": 4,
 "nbformat_minor": 2
}
