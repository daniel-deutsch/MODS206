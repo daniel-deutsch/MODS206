{
 "cells": [
  {
   "cell_type": "markdown",
   "metadata": {},
   "source": [
    "# Name of the Project\n",
    "\n",
    "*By Daniel Deutsch, José Lucas Barretto, Kevin kuhl and Lucas Miguel Agrizzi*"
   ]
  },
  {
   "cell_type": "code",
   "execution_count": 111,
   "metadata": {},
   "outputs": [],
   "source": [
    "import yfinance as yf\n",
    "import pandas as pd\n",
    "from os import listdir\n",
    "from os.path import isfile, join\n",
    "from datetime import datetime\n",
    "import matplotlib.pyplot as plt"
   ]
  },
  {
   "cell_type": "markdown",
   "metadata": {},
   "source": [
    "# Data Collection\n",
    "\n"
   ]
  },
  {
   "cell_type": "code",
   "execution_count": 75,
   "metadata": {},
   "outputs": [],
   "source": [
    "START_DATE = \"\"\n",
    "END_DATE = \"\""
   ]
  },
  {
   "cell_type": "code",
   "execution_count": 80,
   "metadata": {},
   "outputs": [
    {
     "data": {
      "text/plain": [
       "['IEEX.csv',\n",
       " 'INDX.csv',\n",
       " 'UTIL.csv',\n",
       " 'IMOB.csv',\n",
       " 'IMAT.csv',\n",
       " 'IFNC.csv',\n",
       " 'ICON.csv']"
      ]
     },
     "execution_count": 80,
     "metadata": {},
     "output_type": "execute_result"
    }
   ],
   "source": [
    "# gets all files in indexes folder\n",
    "files = [f for f in listdir('indexes/') if isfile(join('indexes/', f))]\n",
    "files"
   ]
  },
  {
   "cell_type": "code",
   "execution_count": 127,
   "metadata": {},
   "outputs": [],
   "source": [
    "# defines index dataframe\n",
    "index_data = pd.DataFrame(columns = ['Código', 'Ação', 'Tipo', 'Qtde. Teórica', 'Part. (%)', 'Index'])\n",
    "\n",
    "# appends index data to index dataframe\n",
    "for filename in files:\n",
    "    index = pd.read_csv(f'indexes/{filename}', delimiter=';', header=1, \n",
    "                       index_col=False, encoding='latin', decimal=',',\n",
    "                       skipfooter=2, engine='python')\n",
    "    index['Index'] = filename[:-4]\n",
    "    \n",
    "    index_data = index_data.append(index)\n",
    "\n",
    "# creates proper tickers for each stock\n",
    "index_data['Código'] = index_data['Código'].apply(lambda code: code + '.SA')"
   ]
  },
  {
   "cell_type": "code",
   "execution_count": 147,
   "metadata": {},
   "outputs": [],
   "source": [
    "index_dict = {}\n",
    "for index in index_data['Index'].unique():\n",
    "    mask = index_data['Index'] == index\n",
    "    columns = index_data[mask]['Código']\n",
    "    index_dict[index] = columns.to_list()"
   ]
  },
  {
   "cell_type": "code",
   "execution_count": 131,
   "metadata": {},
   "outputs": [
    {
     "name": "stdout",
     "output_type": "stream",
     "text": [
      "[*********************100%***********************]  136 of 136 completed\n"
     ]
    }
   ],
   "source": [
    "# gets stock data from yahoo finance\n",
    "stock_data = yf.download(tickers = index_data['Código'].to_list(), period='max', interval = \"1d\")"
   ]
  },
  {
   "cell_type": "markdown",
   "metadata": {},
   "source": [
    "# Data Analysis"
   ]
  }
 ],
 "metadata": {
  "kernelspec": {
   "display_name": "Python [conda env:study] *",
   "language": "python",
   "name": "conda-env-study-py"
  },
  "language_info": {
   "codemirror_mode": {
    "name": "ipython",
    "version": 3
   },
   "file_extension": ".py",
   "mimetype": "text/x-python",
   "name": "python",
   "nbconvert_exporter": "python",
   "pygments_lexer": "ipython3",
   "version": "3.7.9"
  }
 },
 "nbformat": 4,
 "nbformat_minor": 2
}
