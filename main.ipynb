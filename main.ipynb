{
 "cells": [
  {
   "cell_type": "markdown",
   "metadata": {},
   "source": [
    "# The Impact of Lower Interest Rates in Brazilian Stock Market\n",
    "\n",
    "*By Daniel Deutsch, José Lucas Barretto, Kevin kuhl and Lucas Miguel Agrizzi*"
   ]
  },
  {
   "cell_type": "code",
   "execution_count": 8,
   "metadata": {},
   "outputs": [],
   "source": [
    "import os\n",
    "import sys\n",
    "import requests\n",
    "from bs4 import BeautifulSoup\n",
    "from datetime import datetime\n",
    "from selenium import webdriver\n",
    "\n",
    "import matplotlib.pyplot as plt\n",
    "import pandas as pd\n",
    "import yfinance as yf"
   ]
  },
  {
   "cell_type": "markdown",
   "metadata": {},
   "source": [
    "# Data Collection\n",
    "\n",
    "In this stage, we want to collect the data necessary for our analysis. In our case, we must collect two kinds of data: Indexes of (which kind? why?) and stock information about the indexes."
   ]
  },
  {
   "source": [
    "## Indexes Collection\n",
    "\n",
    "Indexes are basically .... (explicar o que são indexes e porque eles serão utilizados na nossa análise).\n",
    "\n",
    "Given that, the group decided to understand the effects of the index rate on the following indexes (because we considered them the most influential in the brazillian market):\n",
    "\n",
    "| Index Acronym | Index Name                  | URL           | Sector  |\n",
    "|:------------- |:----------------------------|:--------------|:-------|\n",
    "| ICON          | Índice de Consumo           | right-aligned | $1600 |\n",
    "| IEEX          | Índice de Energia Elétrica  | centered      |   $12 |\n",
    "| IFNC          | Índice Financeiro           | are neat      |    $1 |\n",
    "| IMAT          | Índice de Materiais Básicos | are neat      |    $1 |\n",
    "| IMOB          | Índice Imobiliário          | are neat      |    $1 |\n",
    "| INDX          | Índice Industrial           | are neat      |    $1 |\n",
    "| UTIL          | Índice Utilidade Pública    | are neat      |    $1 |"
   ],
   "cell_type": "markdown",
   "metadata": {}
  },
  {
   "cell_type": "code",
   "execution_count": 80,
   "metadata": {},
   "outputs": [
    {
     "output_type": "error",
     "ename": "TimeoutException",
     "evalue": "Message: \n",
     "traceback": [
      "\u001b[1;31m---------------------------------------------------------------------------\u001b[0m",
      "\u001b[1;31mTimeoutException\u001b[0m                          Traceback (most recent call last)",
      "\u001b[1;32m<ipython-input-80-20a507e1f444>\u001b[0m in \u001b[0;36m<module>\u001b[1;34m\u001b[0m\n\u001b[0;32m     25\u001b[0m             \u001b[1;31m#select_semester = wd.find_element_by_xpath('//*[@id=\"semester\"]')\u001b[0m\u001b[1;33m\u001b[0m\u001b[1;33m\u001b[0m\u001b[1;33m\u001b[0m\u001b[0m\n\u001b[0;32m     26\u001b[0m \u001b[1;33m\u001b[0m\u001b[0m\n\u001b[1;32m---> 27\u001b[1;33m             select_year = WebDriverWait(wd, 20).until(\n\u001b[0m\u001b[0;32m     28\u001b[0m                 \u001b[0mEC\u001b[0m\u001b[1;33m.\u001b[0m\u001b[0mpresence_of_element_located\u001b[0m\u001b[1;33m(\u001b[0m\u001b[1;33m(\u001b[0m\u001b[0mBy\u001b[0m\u001b[1;33m.\u001b[0m\u001b[0mXPATH\u001b[0m\u001b[1;33m,\u001b[0m \u001b[1;34m\"//*[@id='selectYear']\"\u001b[0m\u001b[1;33m)\u001b[0m\u001b[1;33m)\u001b[0m\u001b[1;33m\u001b[0m\u001b[1;33m\u001b[0m\u001b[0m\n\u001b[0;32m     29\u001b[0m             )\n",
      "\u001b[1;32mc:\\Users\\Dell\\Desktop\\Code\\Telecom\\2A\\P3\\MODS206\\venv\\lib\\site-packages\\selenium\\webdriver\\support\\wait.py\u001b[0m in \u001b[0;36muntil\u001b[1;34m(self, method, message)\u001b[0m\n\u001b[0;32m     78\u001b[0m             \u001b[1;32mif\u001b[0m \u001b[0mtime\u001b[0m\u001b[1;33m.\u001b[0m\u001b[0mtime\u001b[0m\u001b[1;33m(\u001b[0m\u001b[1;33m)\u001b[0m \u001b[1;33m>\u001b[0m \u001b[0mend_time\u001b[0m\u001b[1;33m:\u001b[0m\u001b[1;33m\u001b[0m\u001b[1;33m\u001b[0m\u001b[0m\n\u001b[0;32m     79\u001b[0m                 \u001b[1;32mbreak\u001b[0m\u001b[1;33m\u001b[0m\u001b[1;33m\u001b[0m\u001b[0m\n\u001b[1;32m---> 80\u001b[1;33m         \u001b[1;32mraise\u001b[0m \u001b[0mTimeoutException\u001b[0m\u001b[1;33m(\u001b[0m\u001b[0mmessage\u001b[0m\u001b[1;33m,\u001b[0m \u001b[0mscreen\u001b[0m\u001b[1;33m,\u001b[0m \u001b[0mstacktrace\u001b[0m\u001b[1;33m)\u001b[0m\u001b[1;33m\u001b[0m\u001b[1;33m\u001b[0m\u001b[0m\n\u001b[0m\u001b[0;32m     81\u001b[0m \u001b[1;33m\u001b[0m\u001b[0m\n\u001b[0;32m     82\u001b[0m     \u001b[1;32mdef\u001b[0m \u001b[0muntil_not\u001b[0m\u001b[1;33m(\u001b[0m\u001b[0mself\u001b[0m\u001b[1;33m,\u001b[0m \u001b[0mmethod\u001b[0m\u001b[1;33m,\u001b[0m \u001b[0mmessage\u001b[0m\u001b[1;33m=\u001b[0m\u001b[1;34m''\u001b[0m\u001b[1;33m)\u001b[0m\u001b[1;33m:\u001b[0m\u001b[1;33m\u001b[0m\u001b[1;33m\u001b[0m\u001b[0m\n",
      "\u001b[1;31mTimeoutException\u001b[0m: Message: \n"
     ]
    }
   ],
   "source": [
    "from selenium import webdriver\n",
    "from selenium.webdriver.support.ui import WebDriverWait\n",
    "from selenium.webdriver.support import expected_conditions as EC\n",
    "from selenium.webdriver.common.by import By\n",
    "from selenium.common.exceptions import TimeoutException\n",
    "\n",
    "\n",
    "\n",
    "# Defines the indexes array and the initial url\n",
    "indexes = [\"ICON\", \"IEEX\", \"IFNC\", \"IMAT\", \"IMOB\", \"INDX\", \"UTIL\"]\n",
    "url = \"http://www.b3.com.br/pt_br/market-data-e-indices/indices/indices-de-segmentos-e-setoriais/\"\n",
    "\n",
    "# Creates a webdriver\n",
    "wd = webdriver.Chrome(executable_path=f\"./webdriver/{'linux_chromedriver' if sys.platform == 'linux' else 'win32_chromedriver.exe'}\")\n",
    "\n",
    "# For each index, create a dataframe with the daily values\n",
    "for index in indexes:\n",
    "    wd.get(url)\n",
    "    wd.find_element_by_id(\"onetrust-accept-btn-handler\").click()\n",
    "    for div in wd.find_elements_by_xpath(\"//div[@class='card'][@data-equalizer-watch]\"):\n",
    "        if index in div.text:\n",
    "            div.find_element_by_tag_name(\"a\").click()\n",
    "            wd.find_element_by_id(\"aa_8A828D295048C0EF0150733B04F514AA\").click()\n",
    "            #select_year = wd.find_element_by_xpath('//*[@id=\"selectYear\"]')\n",
    "            #select_semester = wd.find_element_by_xpath('//*[@id=\"semester\"]')\n",
    "\n",
    "            select_year = WebDriverWait(wd, 20).until(\n",
    "                EC.presence_of_element_located((By.XPATH, \"//*[@id='selectYear']\"))\n",
    "            )\n",
    "            select_semester = WebDriverWait(wd, 20).until(\n",
    "                EC.presence_of_element_located((By.XPATH, \"//*[@id='semester']\"))\n",
    "            )\n",
    "\n",
    "            \n",
    "\n",
    "            for year in select_year.find_elements_by_tag_name('option'):\n",
    "                for semester in select_semester.find_elements_by_tag_name('option'):\n",
    "                    \n",
    "                    year.click()\n",
    "                    semester.click()\n",
    "\n",
    "                    table = BeautifulSoup(wd.find_element_by_tag_name(\"table\").get_attribute('innerHTML'), 'html.parser')\n"
   ]
  },
  {
   "cell_type": "code",
   "execution_count": 147,
   "metadata": {},
   "outputs": [],
   "source": [
    "index_dict = {}\n",
    "for index in index_data['Index'].unique():\n",
    "    mask = index_data['Index'] == index\n",
    "    columns = index_data[mask]['Código']\n",
    "    index_dict[index] = columns.to_list()"
   ]
  },
  {
   "cell_type": "code",
   "execution_count": 131,
   "metadata": {},
   "outputs": [
    {
     "name": "stdout",
     "output_type": "stream",
     "text": [
      "[*********************100%***********************]  136 of 136 completed\n"
     ]
    }
   ],
   "source": [
    "# gets stock data from yahoo finance\n",
    "stock_data = yf.download(tickers = index_data['Código'].to_list(), period='max', interval = \"1d\")"
   ]
  },
  {
   "cell_type": "markdown",
   "metadata": {},
   "source": [
    "# Data Analysis"
   ]
  }
 ],
 "metadata": {
  "kernelspec": {
   "display_name": "Python 3.8.5 64-bit ('venv')",
   "language": "python",
   "name": "python38564bitvenv104dd00143d2433ab4646c6731c6ec84"
  },
  "language_info": {
   "codemirror_mode": {
    "name": "ipython",
    "version": 3
   },
   "file_extension": ".py",
   "mimetype": "text/x-python",
   "name": "python",
   "nbconvert_exporter": "python",
   "pygments_lexer": "ipython3",
   "version": "3.8.5-final"
  }
 },
 "nbformat": 4,
 "nbformat_minor": 2
}