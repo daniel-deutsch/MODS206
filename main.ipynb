{
 "cells": [
  {
   "cell_type": "markdown",
   "metadata": {},
   "source": [
    "# The Impact of Lower Interest Rates in Brazilian Stock Market\n",
    "\n",
    "*By Daniel Deutsch, José Lucas Barretto, Kevin kuhl and Lucas Miguel Agrizzi*"
   ]
  },
  {
   "cell_type": "code",
   "execution_count": 2,
   "metadata": {},
   "outputs": [],
   "source": [
    "import os\n",
    "import requests\n",
    "from bs4 import BeautifulSoup\n",
    "from datetime import datetime\n",
    "\n",
    "import matplotlib.pyplot as plt\n",
    "import pandas as pd\n",
    "import yfinance as yf"
   ]
  },
  {
   "cell_type": "markdown",
   "metadata": {},
   "source": [
    "# Data Collection\n",
    "\n",
    "In this stage, we want to collect the data necessary for our analysis. In our case, we must collect two kinds of data: Indexes of (which kind? why?) and stock information about the indexes."
   ]
  },
  {
   "source": [
    "## Indexes Collection\n",
    "\n",
    "Indexes are basically .... (explicar o que são indexes e porque eles serão utilizados na nossa análise).\n",
    "\n",
    "Given that, the group decided to understand the effects of the index rate on the following indexes (because we considered them the most influential in the brazillian market):\n",
    "\n",
    "| Index Acronym | Index Name                  | URL           | Sector  |\n",
    "|:------------- |:----------------------------|:--------------|:-------|\n",
    "| ICON          | Índice de Consumo           | right-aligned | $1600 |\n",
    "| IEEX          | Índice de Energia Elétrica  | centered      |   $12 |\n",
    "| IFNC          | Índice Financeiro           | are neat      |    $1 |\n",
    "| IMAT          | Índice de Materiais Básicos | are neat      |    $1 |\n",
    "| IMOB          | Índice Imobiliário          | are neat      |    $1 |\n",
    "| INDX          | Índice Industrial           | are neat      |    $1 |\n",
    "| UTIL          | Índice Utilidade Pública    | are neat      |    $1 |"
   ],
   "cell_type": "markdown",
   "metadata": {}
  },
  {
   "cell_type": "code",
   "execution_count": 5,
   "metadata": {},
   "outputs": [
    {
     "output_type": "stream",
     "name": "stderr",
     "text": [
      "c:\\Users\\Dell\\Desktop\\Code\\Telecom\\2A\\P3\\MODS206\\venv\\lib\\site-packages\\urllib3\\connectionpool.py:1013: InsecureRequestWarning: Unverified HTTPS request is being made to host 'sistemaswebb3-listados.b3.com.br'. Adding certificate verification is strongly advised. See: https://urllib3.readthedocs.io/en/latest/advanced-usage.html#ssl-warnings\n",
      "  warnings.warn(\n",
      "<Response [200]>\n",
      "c:\\Users\\Dell\\Desktop\\Code\\Telecom\\2A\\P3\\MODS206\\venv\\lib\\site-packages\\urllib3\\connectionpool.py:1013: InsecureRequestWarning: Unverified HTTPS request is being made to host 'sistemaswebb3-listados.b3.com.br'. Adding certificate verification is strongly advised. See: https://urllib3.readthedocs.io/en/latest/advanced-usage.html#ssl-warnings\n",
      "  warnings.warn(\n",
      "c:\\Users\\Dell\\Desktop\\Code\\Telecom\\2A\\P3\\MODS206\\venv\\lib\\site-packages\\urllib3\\connectionpool.py:1013: InsecureRequestWarning: Unverified HTTPS request is being made to host 'sistemaswebb3-listados.b3.com.br'. Adding certificate verification is strongly advised. See: https://urllib3.readthedocs.io/en/latest/advanced-usage.html#ssl-warnings\n",
      "  warnings.warn(\n",
      "c:\\Users\\Dell\\Desktop\\Code\\Telecom\\2A\\P3\\MODS206\\venv\\lib\\site-packages\\urllib3\\connectionpool.py:1013: InsecureRequestWarning: Unverified HTTPS request is being made to host 'sistemaswebb3-listados.b3.com.br'. Adding certificate verification is strongly advised. See: https://urllib3.readthedocs.io/en/latest/advanced-usage.html#ssl-warnings\n",
      "  warnings.warn(\n",
      "c:\\Users\\Dell\\Desktop\\Code\\Telecom\\2A\\P3\\MODS206\\venv\\lib\\site-packages\\urllib3\\connectionpool.py:1013: InsecureRequestWarning: Unverified HTTPS request is being made to host 'sistemaswebb3-listados.b3.com.br'. Adding certificate verification is strongly advised. See: https://urllib3.readthedocs.io/en/latest/advanced-usage.html#ssl-warnings\n",
      "  warnings.warn(\n",
      "c:\\Users\\Dell\\Desktop\\Code\\Telecom\\2A\\P3\\MODS206\\venv\\lib\\site-packages\\urllib3\\connectionpool.py:1013: InsecureRequestWarning: Unverified HTTPS request is being made to host 'sistemaswebb3-listados.b3.com.br'. Adding certificate verification is strongly advised. See: https://urllib3.readthedocs.io/en/latest/advanced-usage.html#ssl-warnings\n",
      "  warnings.warn(\n",
      "c:\\Users\\Dell\\Desktop\\Code\\Telecom\\2A\\P3\\MODS206\\venv\\lib\\site-packages\\urllib3\\connectionpool.py:1013: InsecureRequestWarning: Unverified HTTPS request is being made to host 'sistemaswebb3-listados.b3.com.br'. Adding certificate verification is strongly advised. See: https://urllib3.readthedocs.io/en/latest/advanced-usage.html#ssl-warnings\n",
      "  warnings.warn(\n"
     ]
    },
    {
     "output_type": "error",
     "ename": "NameError",
     "evalue": "name 'listdir' is not defined",
     "traceback": [
      "\u001b[1;31m---------------------------------------------------------------------------\u001b[0m",
      "\u001b[1;31mNameError\u001b[0m                                 Traceback (most recent call last)",
      "\u001b[1;32m<ipython-input-5-8a473693a6ce>\u001b[0m in \u001b[0;36m<module>\u001b[1;34m\u001b[0m\n\u001b[0;32m     18\u001b[0m \u001b[1;33m\u001b[0m\u001b[0m\n\u001b[0;32m     19\u001b[0m \u001b[1;31m# gets all files in indexes folder\u001b[0m\u001b[1;33m\u001b[0m\u001b[1;33m\u001b[0m\u001b[1;33m\u001b[0m\u001b[0m\n\u001b[1;32m---> 20\u001b[1;33m \u001b[0mfiles\u001b[0m \u001b[1;33m=\u001b[0m \u001b[1;33m[\u001b[0m\u001b[0mf\u001b[0m \u001b[1;32mfor\u001b[0m \u001b[0mf\u001b[0m \u001b[1;32min\u001b[0m \u001b[0mlistdir\u001b[0m\u001b[1;33m(\u001b[0m\u001b[1;34m\"indexes/\"\u001b[0m\u001b[1;33m)\u001b[0m \u001b[1;32mif\u001b[0m \u001b[0misfile\u001b[0m\u001b[1;33m(\u001b[0m\u001b[0mjoin\u001b[0m\u001b[1;33m(\u001b[0m\u001b[1;34m\"indexes/\"\u001b[0m\u001b[1;33m,\u001b[0m \u001b[0mf\u001b[0m\u001b[1;33m)\u001b[0m\u001b[1;33m)\u001b[0m\u001b[1;33m]\u001b[0m\u001b[1;33m\u001b[0m\u001b[1;33m\u001b[0m\u001b[0m\n\u001b[0m\u001b[0;32m     21\u001b[0m \u001b[0mfiles\u001b[0m\u001b[1;33m\u001b[0m\u001b[1;33m\u001b[0m\u001b[0m\n",
      "\u001b[1;31mNameError\u001b[0m: name 'listdir' is not defined"
     ]
    }
   ],
   "source": [
    "# Defines the URLs where information about the indexes can be found\n",
    "indexes = [\n",
    "    { 'acronym': \"ICON\", 'url': \"https://sistemaswebb3-listados.b3.com.br/indexPage/day/ICON?language=en-us\" },\n",
    "    { 'acronym': \"IEEX\", 'url': \"https://sistemaswebb3-listados.b3.com.br/indexPage/day/IEEX?language=en-us\" },\n",
    "    { 'acronym': \"IFNC\", 'url': \"https://sistemaswebb3-listados.b3.com.br/indexPage/day/IFNC?language=en-us\" },\n",
    "    { 'acronym': \"IMAT\", 'url': \"https://sistemaswebb3-listados.b3.com.br/indexPage/day/IMAT?language=en-us\" },\n",
    "    { 'acronym': \"IMOB\", 'url': \"https://sistemaswebb3-listados.b3.com.br/indexPage/day/IMOB?language=en-us\" },\n",
    "    { 'acronym': \"INDX\", 'url': \"https://sistemaswebb3-listados.b3.com.br/indexPage/day/INDX?language=en-us\" },\n",
    "    { 'acronym': \"UTIL\", 'url': \"https://sistemaswebb3-listados.b3.com.br/indexPage/day/UTIL?language=en-us\" }\n",
    "]\n",
    "soup = BeautifulSoup(page.content, 'html.parser')\n",
    "\n",
    "# Saves the dataframe from each URL into csv files\n",
    "for index in indexes:\n",
    "    r = requests.get(index['url'], verify=False)\n",
    "    if index['acronym'] == \"ICON\":\n",
    "        print(r)\n",
    "\n",
    "\n",
    "# gets all files in indexes folder\n",
    "files = [f for f in listdir(\"indexes/\") if isfile(join(\"indexes/\", f))]\n",
    "files"
   ]
  },
  {
   "cell_type": "code",
   "execution_count": 127,
   "metadata": {},
   "outputs": [],
   "source": [
    "# defines index dataframe\n",
    "index_data = pd.DataFrame(columns = ['Código', 'Ação', 'Tipo', 'Qtde. Teórica', 'Part. (%)', 'Index'])\n",
    "\n",
    "# appends index data to index dataframe\n",
    "for filename in files:\n",
    "    index = pd.read_csv(f'indexes/{filename}', delimiter=';', header=1, \n",
    "                       index_col=False, encoding='latin', decimal=',',\n",
    "                       skipfooter=2, engine='python')\n",
    "    index['Index'] = filename[:-4]\n",
    "    \n",
    "    index_data = index_data.append(index)\n",
    "\n",
    "# creates proper tickers for each stock\n",
    "index_data['Código'] = index_data['Código'].apply(lambda code: code + '.SA')"
   ]
  },
  {
   "cell_type": "code",
   "execution_count": 147,
   "metadata": {},
   "outputs": [],
   "source": [
    "index_dict = {}\n",
    "for index in index_data['Index'].unique():\n",
    "    mask = index_data['Index'] == index\n",
    "    columns = index_data[mask]['Código']\n",
    "    index_dict[index] = columns.to_list()"
   ]
  },
  {
   "cell_type": "code",
   "execution_count": 131,
   "metadata": {},
   "outputs": [
    {
     "name": "stdout",
     "output_type": "stream",
     "text": [
      "[*********************100%***********************]  136 of 136 completed\n"
     ]
    }
   ],
   "source": [
    "# gets stock data from yahoo finance\n",
    "stock_data = yf.download(tickers = index_data['Código'].to_list(), period='max', interval = \"1d\")"
   ]
  },
  {
   "cell_type": "markdown",
   "metadata": {},
   "source": [
    "# Data Analysis"
   ]
  }
 ],
 "metadata": {
  "kernelspec": {
   "display_name": "Python 3.8.5 64-bit ('venv')",
   "language": "python",
   "name": "python38564bitvenv104dd00143d2433ab4646c6731c6ec84"
  },
  "language_info": {
   "codemirror_mode": {
    "name": "ipython",
    "version": 3
   },
   "file_extension": ".py",
   "mimetype": "text/x-python",
   "name": "python",
   "nbconvert_exporter": "python",
   "pygments_lexer": "ipython3",
   "version": "3.8.5-final"
  }
 },
 "nbformat": 4,
 "nbformat_minor": 2
}