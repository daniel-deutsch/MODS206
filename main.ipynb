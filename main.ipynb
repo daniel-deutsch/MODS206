{
 "cells": [
  {
   "cell_type": "markdown",
   "metadata": {},
   "source": [
    "# The Impact of Lower Interest Rates in Brazilian Stock Market\n",
    "\n",
    "*By Daniel Deutsch, José Lucas Barretto, Kevin kühl and Lucas Miguel Agrizzi*"
   ]
  },
  {
   "cell_type": "code",
   "execution_count": 1,
   "metadata": {},
   "outputs": [],
   "source": [
    "import os\n",
    "import time\n",
    "from datetime import date\n",
    "from io import BytesIO\n",
    "from zipfile import ZipFile\n",
    "\n",
    "import matplotlib.pyplot as plt\n",
    "import pandas as pd\n",
    "import requests\n",
    "import yfinance as yf\n",
    "from requests.packages.urllib3.exceptions import InsecureRequestWarning"
   ]
  },
  {
   "cell_type": "code",
   "execution_count": 2,
   "metadata": {},
   "outputs": [],
   "source": [
    "# Warnings\n",
    "requests.packages.urllib3.disable_warnings(InsecureRequestWarning)\n",
    "\n",
    "# Matplotlib styles\n",
    "plt.style.use('ggplot')\n",
    "plt.rcParams.update({\n",
    "    'figure.figsize': (15, 4),\n",
    "    'axes.prop_cycle': plt.cycler(color=[\"#4C72B0\", \"#C44E52\", \"#55A868\", \"#8172B2\", \"#CCB974\", \"#64B5CD\"]),\n",
    "    'axes.facecolor': \"#EAEAF2\"\n",
    "})"
   ]
  },
  {
   "cell_type": "markdown",
   "metadata": {},
   "source": [
    "# Data Collection\n",
    "\n",
    "In this stage, we want to collect the data necessary for our analysis. In our case, we must collect two kinds of data: brazilian economic sector indexes (our explained variables) and other variables that we believe might have some influence over the indexes (the explanatory variables)."
   ]
  },
  {
   "cell_type": "markdown",
   "metadata": {},
   "source": [
    "## Explained Variables\n",
    "\n",
    "### Sector Indexes\n",
    "\n",
    "An economic index is basically a statistic about an economic activity. Economic indexes allow analysis of economic performance and forecasts of future performance. Therefore, sector indexes are a great way to understand the performance of a certain sector of the economy (such as electricity, basic materials, etc.) in the stock market.\n",
    "\n",
    "Given that, the group decided to understand the effects of lower interest rates on the following indexes, considered by us the most influential in the brazillian market:\n",
    "\n",
    "| Index &emsp;  | Index Name                         | Sector           |\n",
    "|:--------------|:-----------------------------------|:-----------------|\n",
    "| `ICON`        | Índice de Consumo                  | Cyclical consumption, non-cyclical consumption and health |\n",
    "| `IEEX`        | Índice de Energia Elétrica &emsp;  | Electricity |\n",
    "| `IFNC`        | Índice Financeiro                  | Financial intermediaries, miscellaneous financial services, pension and insurance |\n",
    "| `IMAT`        | Índice de Materiais Básicos        | Basic materials |\n",
    "| `IMOB`        | Índice Imobiliário                 | Real estate and civil construction |\n",
    "| `INDX`        | Índice Industrial                  | Basic materials, industrial goods, cyclical consumption, non-cyclical consumption, information technology and health |\n",
    "| `UTIL`        | Índice Utilidade Pública           | Electricity, water and sanitation and gas |"
   ]
  },
  {
   "cell_type": "code",
   "execution_count": 6,
   "metadata": {
    "tags": []
   },
   "outputs": [
    {
     "output_type": "stream",
     "name": "stdout",
     "text": [
      "Progress indexes 7/7 years 24/24 df_index_size 6324"
     ]
    }
   ],
   "source": [
    "indexes = [\n",
    "    { 'index': \"ICON\", 'url_code': \"klDT04\" },\n",
    "    { 'index': \"IEEX\", 'url_code': \"klFRVg\" },\n",
    "    { 'index': \"IFNC\", 'url_code': \"klGTkM\" },\n",
    "    { 'index': \"IMAT\", 'url_code': \"klNQVQ\" },\n",
    "    { 'index': \"IMOB\", 'url_code': \"klNT0I\" },\n",
    "    { 'index': \"INDX\", 'url_code': \"klORFg\" },\n",
    "    { 'index': \"UTIL\", 'url_code': \"lVUSUw\" }\n",
    "]\n",
    "\n",
    "years = [\n",
    "    { 'year': \"2021\", 'url_code': \"IwMjE\" },\n",
    "    { 'year': \"2020\", 'url_code': \"IwMjA\" },\n",
    "    { 'year': \"2019\", 'url_code': \"IwMTk\" },\n",
    "    { 'year': \"2018\", 'url_code': \"IwMTg\" },\n",
    "    { 'year': \"2017\", 'url_code': \"IwMTc\" },\n",
    "    { 'year': \"2016\", 'url_code': \"IwMTY\" },\n",
    "    { 'year': \"2015\", 'url_code': \"IwMTU\" },\n",
    "    { 'year': \"2014\", 'url_code': \"IwMTQ\" },\n",
    "    { 'year': \"2013\", 'url_code': \"IwMTM\" },\n",
    "    { 'year': \"2012\", 'url_code': \"IwMTI\" },\n",
    "    { 'year': \"2011\", 'url_code': \"IwMTE\" },\n",
    "    { 'year': \"2010\", 'url_code': \"IwMTA\" },\n",
    "    { 'year': \"2009\", 'url_code': \"IwMDk\" },\n",
    "    { 'year': \"2008\", 'url_code': \"IwMDg\" },\n",
    "    { 'year': \"2007\", 'url_code': \"IwMDc\" },\n",
    "    { 'year': \"2006\", 'url_code': \"IwMDY\" },\n",
    "    { 'year': \"2005\", 'url_code': \"IwMDU\" },\n",
    "    { 'year': \"2004\", 'url_code': \"IwMDQ\" },\n",
    "    { 'year': \"2003\", 'url_code': \"IwMDM\" },\n",
    "    { 'year': \"2002\", 'url_code': \"IwMDI\" },\n",
    "    { 'year': \"2001\", 'url_code': \"IwMDE\" },\n",
    "    { 'year': \"2000\", 'url_code': \"IwMDA\" },\n",
    "    { 'year': \"1999\", 'url_code': \"E5OTk\" },\n",
    "    { 'year': \"1998\", 'url_code': \"E5OTg\" }\n",
    "]\n",
    "\n",
    "url_sectors = \"https://sistemaswebb3-listados.b3.com.br/indexStatisticsProxy/IndexCall/GetPortfolioDay/eyJpbmRleCI6I%siLCJsYW5ndWFnZSI6InB0LWJyIiwieWVhciI6Ij%sifQ==\"\n",
    "\n",
    "for i_id, index in enumerate(indexes):\n",
    "    df_index = pd.DataFrame()\n",
    "    for y_id, year in enumerate(years):\n",
    "        r = requests.get(url_sectors % (index['url_code'], year['url_code']), verify=False)\n",
    "        try:\n",
    "            print(f\"\\rProgress indexes {i_id+1}/{len(indexes)} years {y_id+1}/{len(years)} df_index_size {df_index.shape[0]}\", end=\"\")\n",
    "            r = r.json()\n",
    "        except Exception:\n",
    "            print(f\"Error with index {index['index']} year {year['year']}\")\n",
    "        else:\n",
    "            if r['results']:\n",
    "                for result in r['results']:\n",
    "                    day = result['day']\n",
    "                    for key, val in result.items():\n",
    "                        if key != \"day\":\n",
    "                            date = f\"{year['year']}-{int(key[9:]):02d}-{day:02d}\"\n",
    "                            rate_value = float(val.replace('.', '').replace(',', '.')) if val else pd.NA\n",
    "                            df_new = pd.DataFrame({ 'date': [date], 'index': [index['index']], 'rate_value': [rate_value] })\n",
    "                            df_index = pd.concat([df_index, df_new], ignore_index=True)\n",
    "                            \n",
    "    df_index.dropna(inplace=True)\n",
    "    df_index['date'] = pd.to_datetime(df_index['date'])\n",
    "    df_index.sort_values(by=['date', 'index', 'rate_value'], inplace=True, ignore_index=True)\n",
    "    df_index.to_csv(f\"./datasets/raw/explained/{index['index']}.csv.zip\")"
   ]
  },
  {
   "cell_type": "markdown",
   "metadata": {},
   "source": [
    "## Explanatory Variables\n",
    "\n",
    "### Interest Rate (SELIC)\n",
    "\n",
    "The SELIC is the basic rate of the economy and serves as a reference for other interest rates (financing) and for remunerating investments corrected by it."
   ]
  },
  {
   "cell_type": "code",
   "execution_count": 7,
   "metadata": {},
   "outputs": [],
   "source": [
    "url_selic = \"http://api.bcb.gov.br/dados/serie/bcdata.sgs.11/dados?formato=csv\"\n",
    "df_selic = pd.read_csv(\n",
    "    url_selic, \n",
    "    delimiter=';',\n",
    "    header=0, \n",
    "    names = ['date', 'rate_value'], \n",
    "    decimal=',',\n",
    "    parse_dates=[0]\n",
    ")\n",
    "df_selic['index'] = \"selic\"\n",
    "df_selic.sort_values(by=['date', 'index', 'rate_value'], inplace=True, ignore_index=True)\n",
    "df_selic.to_csv(f\"./datasets/raw/explanatory/selic.csv.zip\")"
   ]
  },
  {
   "source": [
    "### Volatility Index\n",
    "\n",
    "Volatility, in the financial area, is a measure of dispersion of the returns of a security or market index. The more the price of a stock varies in a short period of time, the greater the risk of making or losing money by trading in that stock - therefore, volatility is a measure of risk."
   ],
   "cell_type": "markdown",
   "metadata": {}
  },
  {
   "cell_type": "code",
   "execution_count": 8,
   "metadata": {},
   "outputs": [
    {
     "output_type": "stream",
     "name": "stdout",
     "text": [
      "[*********************100%***********************]  1 of 1 completed\n"
     ]
    }
   ],
   "source": [
    "df_vix = yf.download('^VIX', period='max', interval='1d')\n",
    "df_vix.reset_index(level=0, inplace=True)\n",
    "df_vix.rename(columns={'Adj Close': 'rate_value', 'Date': 'date'}, inplace=True)\n",
    "df_vix = df_vix[:][['date', 'rate_value']]\n",
    "df_vix['index'] = \"vix\"\n",
    "df_vix.sort_values(by=['date', 'index', 'rate_value'], inplace=True, ignore_index=True)\n",
    "df_vix.to_csv(f\"./datasets/raw/explanatory/vix.csv.zip\")"
   ]
  },
  {
   "cell_type": "markdown",
   "metadata": {},
   "source": [
    "### Price of the Dollar\n",
    "\n",
    "The price of the dollar is basically how much 1 american dollar is worth in reais (brazilian currency) at a given day."
   ]
  },
  {
   "cell_type": "code",
   "execution_count": 9,
   "metadata": {},
   "outputs": [
    {
     "output_type": "stream",
     "name": "stdout",
     "text": [
      "[*********************100%***********************]  1 of 1 completed\n"
     ]
    }
   ],
   "source": [
    "df_dollar = yf.download(\"BRL=X\", period='max', interval='1d')\n",
    "df_dollar.reset_index(level=0, inplace=True)\n",
    "df_dollar.rename(columns={'Adj Close': 'rate_value', 'Date': 'date'}, inplace=True)\n",
    "df_dollar = df_dollar[:][['date', 'rate_value']]\n",
    "df_dollar['index'] = \"dollar\"\n",
    "df_dollar.sort_values(by=['date', 'index', 'rate_value'], inplace=True, ignore_index=True)\n",
    "df_dollar.to_csv(f\"./datasets/raw/explanatory/dollar.csv.zip\")"
   ]
  },
  {
   "cell_type": "markdown",
   "metadata": {},
   "source": [
    "### Inflation Rate (IPCA)\n",
    "\n",
    "Consumer price index is used to track inflation trends. It is calculated based on the average price needed to buy a set of consumer goods and services in a country, compared to previous periods."
   ]
  },
  {
   "cell_type": "code",
   "execution_count": 10,
   "metadata": {},
   "outputs": [],
   "source": [
    "url_ipca = \"https://apisidra.ibge.gov.br/values/t/1737/n1/all/v/all/p/all/d/v63%202,v69%202,v2266%2013,v2263%202,v2264%202,v2265%202?formato=json\"\n",
    "\n",
    "df_ipca = pd.read_json(url_ipca)\n",
    "df_ipca.drop([0], inplace=True)\n",
    "\n",
    "mask = (df_ipca['MN'] == \"%\")\n",
    "df_ipca = df_ipca[mask]\n",
    "\n",
    "df_ipca.rename(columns={'D3C': 'date'}, inplace=True)\n",
    "df_ipca['date'] = pd.to_datetime(df_ipca['date'], format='%Y%m')\n",
    "df_ipca['V'] = pd.to_numeric(df_ipca['V'])\n",
    "\n",
    "mask = (df_ipca['D2N'] == \"IPCA - Variação mensal\")\n",
    "ipca_pct_change = df_ipca[mask][['date', 'V']].rename(columns={'V': 'rate_value'})\n",
    "ipca_pct_change['index'] = 'ipca_pct'\n",
    "\n",
    "mask = (df_ipca['D2N'] == \"IPCA - Variação acumulada no ano\")\n",
    "ipca_annual_cumulative = df_ipca[mask][['date', 'V']].rename(columns={'V': 'rate_value'})\n",
    "ipca_annual_cumulative['index'] = \"ipca_cum\"\n",
    "\n",
    "df_ipca = pd.concat([ipca_pct_change, ipca_annual_cumulative], axis=0)\n",
    "df_ipca.sort_values(by=['date', 'index', 'rate_value'], inplace=True, ignore_index=True)\n",
    "df_ipca.to_csv(f\"./datasets/raw/explanatory/ipca.csv.zip\")"
   ]
  },
  {
   "cell_type": "markdown",
   "metadata": {},
   "source": [
    "### GDP\n",
    "\n",
    "Gross Domestic Product represents the sum of all final goods and services produced in a given region, over a given period. GDP is one of the most used indicators in macroeconomics with the objective of quantifying the economic activity of a region."
   ]
  },
  {
   "cell_type": "code",
   "execution_count": 11,
   "metadata": {},
   "outputs": [],
   "source": [
    "gdp_url = \"https://ftp.ibge.gov.br/Contas_Nacionais/Contas_Nacionais_Trimestrais/Tabelas_Completas/Tab_Compl_CNT.zip\"\n",
    "\n",
    "file = ZipFile(BytesIO(requests.get(gdp_url, verify=False).content))\n",
    "xlfile = file.open(\"Tab_Compl_CNT_4T20.xls\")\n",
    "\n",
    "df_gdp = pd.read_excel(\n",
    "    xlfile, \n",
    "    sheet_name='Valores Correntes',\n",
    "    usecols=[0, 17],\n",
    "    names=['date', 'rate_value'],\n",
    "    skiprows=3,\n",
    "    parse_dates=[0]\n",
    ")\n",
    "\n",
    "mask = df_gdp.date.str.findall('[0-9]+\\.[A-Z]+').apply(lambda arr: arr != [])\n",
    "df_gdp = df_gdp[mask].reset_index(drop=True)\n",
    "\n",
    "dates = pd.date_range(start='1996', end='2021', freq='Q')\n",
    "df_gdp['date'] = dates\n",
    "df_gdp['index'] = \"gdp\"\n",
    "df_gdp.sort_values(by=['date', 'index', 'rate_value'], inplace=True, ignore_index=True)\n",
    "df_gdp.to_csv(f\"./datasets/raw/explanatory/gdp.csv.zip\")"
   ]
  },
  {
   "source": [
    "# Data Processing\n",
    "\n",
    "Unfortunately the collected data isn't in the prper format for our analysis since some frequencies doesn't match and some variables have missing data. Therefore, it is important to process the data to facilitate our analysis."
   ],
   "cell_type": "markdown",
   "metadata": {}
  },
  {
   "cell_type": "code",
   "execution_count": 17,
   "metadata": {},
   "outputs": [],
   "source": [
    "# Read Explained variables\n",
    "df_icon = pd.read_csv(\"./datasets/raw/explained/ICON.csv.zip\", usecols=['date', 'rate_value'], parse_dates=[\"date\"])\n",
    "df_ieex = pd.read_csv(\"./datasets/raw/explained/IEEX.csv.zip\", usecols=['date', 'rate_value'], parse_dates=[\"date\"])\n",
    "df_ifnc = pd.read_csv(\"./datasets/raw/explained/IFNC.csv.zip\", usecols=['date', 'rate_value'], parse_dates=[\"date\"])\n",
    "df_imat = pd.read_csv(\"./datasets/raw/explained/IMAT.csv.zip\", usecols=['date', 'rate_value'], parse_dates=[\"date\"])\n",
    "df_imob = pd.read_csv(\"./datasets/raw/explained/IMOB.csv.zip\", usecols=['date', 'rate_value'], parse_dates=[\"date\"])\n",
    "df_indx = pd.read_csv(\"./datasets/raw/explained/INDX.csv.zip\", usecols=['date', 'rate_value'], parse_dates=[\"date\"])\n",
    "df_util = pd.read_csv(\"./datasets/raw/explained/UTIL.csv.zip\", usecols=['date', 'rate_value'], parse_dates=[\"date\"])\n",
    "\n",
    "# Read explanatory variables\n",
    "df_dollar = pd.read_csv(\"./datasets/raw/explanatory/dollar.csv.zip\", usecols=['date', 'rate_value'], parse_dates=[\"date\"])\n",
    "df_gdp = pd.read_csv(\"./datasets/raw/explanatory/gdp.csv.zip\", usecols=['date', 'rate_value'], parse_dates=[\"date\"])\n",
    "df_ipca = pd.read_csv(\"./datasets/raw/explanatory/ipca.csv.zip\", usecols=['date', 'rate_value'], parse_dates=[\"date\"])\n",
    "df_selic = pd.read_csv(\"./datasets/raw/explanatory/selic.csv.zip\", usecols=['date', 'rate_value'], parse_dates=[\"date\"])\n",
    "df_vix = pd.read_csv(\"./datasets/raw/explanatory/vix.csv.zip\", usecols=['date', 'rate_value'], parse_dates=[\"date\"])"
   ]
  },
  {
   "source": [
    "## Resample \n",
    "\n",
    "All the data collected has a daily frequency except the GDP (quarterly) and the IPCA (monthly) therefore, we need to change their frequency to make their analysis possible."
   ],
   "cell_type": "markdown",
   "metadata": {}
  },
  {
   "cell_type": "code",
   "execution_count": 18,
   "metadata": {},
   "outputs": [],
   "source": [
    "# Resamples the GDP dataframe to a daily frequency (repeats the month value to its days)\n",
    "df_gdp = df_gdp.set_index('date').resample('D').bfill().reset_index()\n",
    "\n",
    "# Resamples the IPCA dataframe to a daily frequency (repeats the quarter value to its days)\n",
    "df_ipca.drop_duplicates(subset=['date'], inplace=True)   # APAGAR QUANDO DECIDIR O IPCA\n",
    "df_ipca = df_ipca.set_index('date').resample('D').bfill().reset_index()"
   ]
  },
  {
   "source": [
    "## Filter Date Intervals\n",
    "\n",
    "Since we have variables that started to be measured in different moments, we need to find a common ground. To do so, we will only run our analysis in the inner join of all the dataframes."
   ],
   "cell_type": "markdown",
   "metadata": {}
  },
  {
   "cell_type": "code",
   "execution_count": 19,
   "metadata": {},
   "outputs": [],
   "source": [
    "# Performas an inner join with all dataframes (select only common dates)\n",
    "df = pd.merge(df_icon, df_ieex, how='inner', on='date')\n",
    "df = pd.merge(df, df_ifnc, how='inner', on='date')\n",
    "df = pd.merge(df, df_imat, how='inner', on='date')\n",
    "df = pd.merge(df, df_imob, how='inner', on='date')\n",
    "df = pd.merge(df, df_indx, how='inner', on='date')\n",
    "df = pd.merge(df, df_util, how='inner', on='date')\n",
    "df = pd.merge(df, df_dollar, how='inner', on='date')\n",
    "df = pd.merge(df, df_gdp, how='inner', on='date')\n",
    "df = pd.merge(df, df_ipca, how='inner', on='date')\n",
    "df = pd.merge(df, df_selic, how='inner', on='date')\n",
    "df = pd.merge(df, df_vix, how='inner', on='date')\n",
    "\n",
    "# Rename columns\n",
    "df.columns = [\"date\", \"ICON\", \"IEEX\", \"IFNC\", \"IMAT\", \"IMOB\", \"INDX\", \"UTIL\", \"DOLLAR\", \"GDP\", \"IPCA\", \"SELIC\", \"VIX\"]\n",
    "\n",
    "# Save the processed dataframe\n",
    "df.to_csv(\"./datasets/proc/variables.csv.zip\")"
   ]
  },
  {
   "cell_type": "markdown",
   "metadata": {},
   "source": [
    "# Data Visualization"
   ]
  },
  {
   "cell_type": "code",
   "execution_count": 20,
   "metadata": {},
   "outputs": [
    {
     "output_type": "execute_result",
     "data": {
      "text/plain": [
       "[<matplotlib.lines.Line2D at 0x2064be3d850>]"
      ]
     },
     "metadata": {},
     "execution_count": 20
    },
    {
     "output_type": "display_data",
     "data": {
      "text/plain": "<Figure size 1080x288 with 1 Axes>",
      "image/svg+xml": "<?xml version=\"1.0\" encoding=\"utf-8\" standalone=\"no\"?>\r\n<!DOCTYPE svg PUBLIC \"-//W3C//DTD SVG 1.1//EN\"\r\n  \"http://www.w3.org/Graphics/SVG/1.1/DTD/svg11.dtd\">\r\n<!-- Created with matplotlib (https://matplotlib.org/) -->\r\n<svg height=\"259.116562pt\" version=\"1.1\" viewBox=\"0 0 874.303125 259.116562\" width=\"874.303125pt\" xmlns=\"http://www.w3.org/2000/svg\" xmlns:xlink=\"http://www.w3.org/1999/xlink\">\r\n <metadata>\r\n  <rdf:RDF xmlns:cc=\"http://creativecommons.org/ns#\" xmlns:dc=\"http://purl.org/dc/elements/1.1/\" xmlns:rdf=\"http://www.w3.org/1999/02/22-rdf-syntax-ns#\">\r\n   <cc:Work>\r\n    <dc:type rdf:resource=\"http://purl.org/dc/dcmitype/StillImage\"/>\r\n    <dc:date>2021-03-30T17:44:05.004284</dc:date>\r\n    <dc:format>image/svg+xml</dc:format>\r\n    <dc:creator>\r\n     <cc:Agent>\r\n      <dc:title>Matplotlib v3.3.4, https://matplotlib.org/</dc:title>\r\n     </cc:Agent>\r\n    </dc:creator>\r\n   </cc:Work>\r\n  </rdf:RDF>\r\n </metadata>\r\n <defs>\r\n  <style type=\"text/css\">*{stroke-linecap:butt;stroke-linejoin:round;}</style>\r\n </defs>\r\n <g id=\"figure_1\">\r\n  <g id=\"patch_1\">\r\n   <path d=\"M 0 259.116562 \r\nL 874.303125 259.116562 \r\nL 874.303125 0 \r\nL 0 0 \r\nz\r\n\" style=\"fill:#ffffff;\"/>\r\n  </g>\r\n  <g id=\"axes_1\">\r\n   <g id=\"patch_2\">\r\n    <path d=\"M 30.103125 235.238437 \r\nL 867.103125 235.238437 \r\nL 867.103125 17.798437 \r\nL 30.103125 17.798437 \r\nz\r\n\" style=\"fill:#eaeaf2;\"/>\r\n   </g>\r\n   <g id=\"matplotlib.axis_1\">\r\n    <g id=\"xtick_1\">\r\n     <g id=\"line2d_1\">\r\n      <path clip-path=\"url(#peac84deca2)\" d=\"M 68.78921 235.238437 \r\nL 68.78921 17.798437 \r\n\" style=\"fill:none;stroke:#ffffff;stroke-linecap:square;stroke-width:0.8;\"/>\r\n     </g>\r\n     <g id=\"line2d_2\">\r\n      <defs>\r\n       <path d=\"M 0 0 \r\nL 0 3.5 \r\n\" id=\"m395928b077\" style=\"stroke:#555555;stroke-width:0.8;\"/>\r\n      </defs>\r\n      <g>\r\n       <use style=\"fill:#555555;stroke:#555555;stroke-width:0.8;\" x=\"68.78921\" xlink:href=\"#m395928b077\" y=\"235.238437\"/>\r\n      </g>\r\n     </g>\r\n     <g id=\"text_1\">\r\n      <!-- 2008 -->\r\n      <g style=\"fill:#555555;\" transform=\"translate(56.06421 249.836875)scale(0.1 -0.1)\">\r\n       <defs>\r\n        <path d=\"M 19.1875 8.296875 \r\nL 53.609375 8.296875 \r\nL 53.609375 0 \r\nL 7.328125 0 \r\nL 7.328125 8.296875 \r\nQ 12.9375 14.109375 22.625 23.890625 \r\nQ 32.328125 33.6875 34.8125 36.53125 \r\nQ 39.546875 41.84375 41.421875 45.53125 \r\nQ 43.3125 49.21875 43.3125 52.78125 \r\nQ 43.3125 58.59375 39.234375 62.25 \r\nQ 35.15625 65.921875 28.609375 65.921875 \r\nQ 23.96875 65.921875 18.8125 64.3125 \r\nQ 13.671875 62.703125 7.8125 59.421875 \r\nL 7.8125 69.390625 \r\nQ 13.765625 71.78125 18.9375 73 \r\nQ 24.125 74.21875 28.421875 74.21875 \r\nQ 39.75 74.21875 46.484375 68.546875 \r\nQ 53.21875 62.890625 53.21875 53.421875 \r\nQ 53.21875 48.921875 51.53125 44.890625 \r\nQ 49.859375 40.875 45.40625 35.40625 \r\nQ 44.1875 33.984375 37.640625 27.21875 \r\nQ 31.109375 20.453125 19.1875 8.296875 \r\nz\r\n\" id=\"DejaVuSans-50\"/>\r\n        <path d=\"M 31.78125 66.40625 \r\nQ 24.171875 66.40625 20.328125 58.90625 \r\nQ 16.5 51.421875 16.5 36.375 \r\nQ 16.5 21.390625 20.328125 13.890625 \r\nQ 24.171875 6.390625 31.78125 6.390625 \r\nQ 39.453125 6.390625 43.28125 13.890625 \r\nQ 47.125 21.390625 47.125 36.375 \r\nQ 47.125 51.421875 43.28125 58.90625 \r\nQ 39.453125 66.40625 31.78125 66.40625 \r\nz\r\nM 31.78125 74.21875 \r\nQ 44.046875 74.21875 50.515625 64.515625 \r\nQ 56.984375 54.828125 56.984375 36.375 \r\nQ 56.984375 17.96875 50.515625 8.265625 \r\nQ 44.046875 -1.421875 31.78125 -1.421875 \r\nQ 19.53125 -1.421875 13.0625 8.265625 \r\nQ 6.59375 17.96875 6.59375 36.375 \r\nQ 6.59375 54.828125 13.0625 64.515625 \r\nQ 19.53125 74.21875 31.78125 74.21875 \r\nz\r\n\" id=\"DejaVuSans-48\"/>\r\n        <path d=\"M 31.78125 34.625 \r\nQ 24.75 34.625 20.71875 30.859375 \r\nQ 16.703125 27.09375 16.703125 20.515625 \r\nQ 16.703125 13.921875 20.71875 10.15625 \r\nQ 24.75 6.390625 31.78125 6.390625 \r\nQ 38.8125 6.390625 42.859375 10.171875 \r\nQ 46.921875 13.96875 46.921875 20.515625 \r\nQ 46.921875 27.09375 42.890625 30.859375 \r\nQ 38.875 34.625 31.78125 34.625 \r\nz\r\nM 21.921875 38.8125 \r\nQ 15.578125 40.375 12.03125 44.71875 \r\nQ 8.5 49.078125 8.5 55.328125 \r\nQ 8.5 64.0625 14.71875 69.140625 \r\nQ 20.953125 74.21875 31.78125 74.21875 \r\nQ 42.671875 74.21875 48.875 69.140625 \r\nQ 55.078125 64.0625 55.078125 55.328125 \r\nQ 55.078125 49.078125 51.53125 44.71875 \r\nQ 48 40.375 41.703125 38.8125 \r\nQ 48.828125 37.15625 52.796875 32.3125 \r\nQ 56.78125 27.484375 56.78125 20.515625 \r\nQ 56.78125 9.90625 50.3125 4.234375 \r\nQ 43.84375 -1.421875 31.78125 -1.421875 \r\nQ 19.734375 -1.421875 13.25 4.234375 \r\nQ 6.78125 9.90625 6.78125 20.515625 \r\nQ 6.78125 27.484375 10.78125 32.3125 \r\nQ 14.796875 37.15625 21.921875 38.8125 \r\nz\r\nM 18.3125 54.390625 \r\nQ 18.3125 48.734375 21.84375 45.5625 \r\nQ 25.390625 42.390625 31.78125 42.390625 \r\nQ 38.140625 42.390625 41.71875 45.5625 \r\nQ 45.3125 48.734375 45.3125 54.390625 \r\nQ 45.3125 60.0625 41.71875 63.234375 \r\nQ 38.140625 66.40625 31.78125 66.40625 \r\nQ 25.390625 66.40625 21.84375 63.234375 \r\nQ 18.3125 60.0625 18.3125 54.390625 \r\nz\r\n\" id=\"DejaVuSans-56\"/>\r\n       </defs>\r\n       <use xlink:href=\"#DejaVuSans-50\"/>\r\n       <use x=\"63.623047\" xlink:href=\"#DejaVuSans-48\"/>\r\n       <use x=\"127.246094\" xlink:href=\"#DejaVuSans-48\"/>\r\n       <use x=\"190.869141\" xlink:href=\"#DejaVuSans-56\"/>\r\n      </g>\r\n     </g>\r\n    </g>\r\n    <g id=\"xtick_2\">\r\n     <g id=\"line2d_3\">\r\n      <path clip-path=\"url(#peac84deca2)\" d=\"M 185.864467 235.238437 \r\nL 185.864467 17.798437 \r\n\" style=\"fill:none;stroke:#ffffff;stroke-linecap:square;stroke-width:0.8;\"/>\r\n     </g>\r\n     <g id=\"line2d_4\">\r\n      <g>\r\n       <use style=\"fill:#555555;stroke:#555555;stroke-width:0.8;\" x=\"185.864467\" xlink:href=\"#m395928b077\" y=\"235.238437\"/>\r\n      </g>\r\n     </g>\r\n     <g id=\"text_2\">\r\n      <!-- 2010 -->\r\n      <g style=\"fill:#555555;\" transform=\"translate(173.139467 249.836875)scale(0.1 -0.1)\">\r\n       <defs>\r\n        <path d=\"M 12.40625 8.296875 \r\nL 28.515625 8.296875 \r\nL 28.515625 63.921875 \r\nL 10.984375 60.40625 \r\nL 10.984375 69.390625 \r\nL 28.421875 72.90625 \r\nL 38.28125 72.90625 \r\nL 38.28125 8.296875 \r\nL 54.390625 8.296875 \r\nL 54.390625 0 \r\nL 12.40625 0 \r\nz\r\n\" id=\"DejaVuSans-49\"/>\r\n       </defs>\r\n       <use xlink:href=\"#DejaVuSans-50\"/>\r\n       <use x=\"63.623047\" xlink:href=\"#DejaVuSans-48\"/>\r\n       <use x=\"127.246094\" xlink:href=\"#DejaVuSans-49\"/>\r\n       <use x=\"190.869141\" xlink:href=\"#DejaVuSans-48\"/>\r\n      </g>\r\n     </g>\r\n    </g>\r\n    <g id=\"xtick_3\">\r\n     <g id=\"line2d_5\">\r\n      <path clip-path=\"url(#peac84deca2)\" d=\"M 302.779566 235.238437 \r\nL 302.779566 17.798437 \r\n\" style=\"fill:none;stroke:#ffffff;stroke-linecap:square;stroke-width:0.8;\"/>\r\n     </g>\r\n     <g id=\"line2d_6\">\r\n      <g>\r\n       <use style=\"fill:#555555;stroke:#555555;stroke-width:0.8;\" x=\"302.779566\" xlink:href=\"#m395928b077\" y=\"235.238437\"/>\r\n      </g>\r\n     </g>\r\n     <g id=\"text_3\">\r\n      <!-- 2012 -->\r\n      <g style=\"fill:#555555;\" transform=\"translate(290.054566 249.836875)scale(0.1 -0.1)\">\r\n       <use xlink:href=\"#DejaVuSans-50\"/>\r\n       <use x=\"63.623047\" xlink:href=\"#DejaVuSans-48\"/>\r\n       <use x=\"127.246094\" xlink:href=\"#DejaVuSans-49\"/>\r\n       <use x=\"190.869141\" xlink:href=\"#DejaVuSans-50\"/>\r\n      </g>\r\n     </g>\r\n    </g>\r\n    <g id=\"xtick_4\">\r\n     <g id=\"line2d_7\">\r\n      <path clip-path=\"url(#peac84deca2)\" d=\"M 419.854823 235.238437 \r\nL 419.854823 17.798437 \r\n\" style=\"fill:none;stroke:#ffffff;stroke-linecap:square;stroke-width:0.8;\"/>\r\n     </g>\r\n     <g id=\"line2d_8\">\r\n      <g>\r\n       <use style=\"fill:#555555;stroke:#555555;stroke-width:0.8;\" x=\"419.854823\" xlink:href=\"#m395928b077\" y=\"235.238437\"/>\r\n      </g>\r\n     </g>\r\n     <g id=\"text_4\">\r\n      <!-- 2014 -->\r\n      <g style=\"fill:#555555;\" transform=\"translate(407.129823 249.836875)scale(0.1 -0.1)\">\r\n       <defs>\r\n        <path d=\"M 37.796875 64.3125 \r\nL 12.890625 25.390625 \r\nL 37.796875 25.390625 \r\nz\r\nM 35.203125 72.90625 \r\nL 47.609375 72.90625 \r\nL 47.609375 25.390625 \r\nL 58.015625 25.390625 \r\nL 58.015625 17.1875 \r\nL 47.609375 17.1875 \r\nL 47.609375 0 \r\nL 37.796875 0 \r\nL 37.796875 17.1875 \r\nL 4.890625 17.1875 \r\nL 4.890625 26.703125 \r\nz\r\n\" id=\"DejaVuSans-52\"/>\r\n       </defs>\r\n       <use xlink:href=\"#DejaVuSans-50\"/>\r\n       <use x=\"63.623047\" xlink:href=\"#DejaVuSans-48\"/>\r\n       <use x=\"127.246094\" xlink:href=\"#DejaVuSans-49\"/>\r\n       <use x=\"190.869141\" xlink:href=\"#DejaVuSans-52\"/>\r\n      </g>\r\n     </g>\r\n    </g>\r\n    <g id=\"xtick_5\">\r\n     <g id=\"line2d_9\">\r\n      <path clip-path=\"url(#peac84deca2)\" d=\"M 536.769922 235.238437 \r\nL 536.769922 17.798437 \r\n\" style=\"fill:none;stroke:#ffffff;stroke-linecap:square;stroke-width:0.8;\"/>\r\n     </g>\r\n     <g id=\"line2d_10\">\r\n      <g>\r\n       <use style=\"fill:#555555;stroke:#555555;stroke-width:0.8;\" x=\"536.769922\" xlink:href=\"#m395928b077\" y=\"235.238437\"/>\r\n      </g>\r\n     </g>\r\n     <g id=\"text_5\">\r\n      <!-- 2016 -->\r\n      <g style=\"fill:#555555;\" transform=\"translate(524.044922 249.836875)scale(0.1 -0.1)\">\r\n       <defs>\r\n        <path d=\"M 33.015625 40.375 \r\nQ 26.375 40.375 22.484375 35.828125 \r\nQ 18.609375 31.296875 18.609375 23.390625 \r\nQ 18.609375 15.53125 22.484375 10.953125 \r\nQ 26.375 6.390625 33.015625 6.390625 \r\nQ 39.65625 6.390625 43.53125 10.953125 \r\nQ 47.40625 15.53125 47.40625 23.390625 \r\nQ 47.40625 31.296875 43.53125 35.828125 \r\nQ 39.65625 40.375 33.015625 40.375 \r\nz\r\nM 52.59375 71.296875 \r\nL 52.59375 62.3125 \r\nQ 48.875 64.0625 45.09375 64.984375 \r\nQ 41.3125 65.921875 37.59375 65.921875 \r\nQ 27.828125 65.921875 22.671875 59.328125 \r\nQ 17.53125 52.734375 16.796875 39.40625 \r\nQ 19.671875 43.65625 24.015625 45.921875 \r\nQ 28.375 48.1875 33.59375 48.1875 \r\nQ 44.578125 48.1875 50.953125 41.515625 \r\nQ 57.328125 34.859375 57.328125 23.390625 \r\nQ 57.328125 12.15625 50.6875 5.359375 \r\nQ 44.046875 -1.421875 33.015625 -1.421875 \r\nQ 20.359375 -1.421875 13.671875 8.265625 \r\nQ 6.984375 17.96875 6.984375 36.375 \r\nQ 6.984375 53.65625 15.1875 63.9375 \r\nQ 23.390625 74.21875 37.203125 74.21875 \r\nQ 40.921875 74.21875 44.703125 73.484375 \r\nQ 48.484375 72.75 52.59375 71.296875 \r\nz\r\n\" id=\"DejaVuSans-54\"/>\r\n       </defs>\r\n       <use xlink:href=\"#DejaVuSans-50\"/>\r\n       <use x=\"63.623047\" xlink:href=\"#DejaVuSans-48\"/>\r\n       <use x=\"127.246094\" xlink:href=\"#DejaVuSans-49\"/>\r\n       <use x=\"190.869141\" xlink:href=\"#DejaVuSans-54\"/>\r\n      </g>\r\n     </g>\r\n    </g>\r\n    <g id=\"xtick_6\">\r\n     <g id=\"line2d_11\">\r\n      <path clip-path=\"url(#peac84deca2)\" d=\"M 653.845179 235.238437 \r\nL 653.845179 17.798437 \r\n\" style=\"fill:none;stroke:#ffffff;stroke-linecap:square;stroke-width:0.8;\"/>\r\n     </g>\r\n     <g id=\"line2d_12\">\r\n      <g>\r\n       <use style=\"fill:#555555;stroke:#555555;stroke-width:0.8;\" x=\"653.845179\" xlink:href=\"#m395928b077\" y=\"235.238437\"/>\r\n      </g>\r\n     </g>\r\n     <g id=\"text_6\">\r\n      <!-- 2018 -->\r\n      <g style=\"fill:#555555;\" transform=\"translate(641.120179 249.836875)scale(0.1 -0.1)\">\r\n       <use xlink:href=\"#DejaVuSans-50\"/>\r\n       <use x=\"63.623047\" xlink:href=\"#DejaVuSans-48\"/>\r\n       <use x=\"127.246094\" xlink:href=\"#DejaVuSans-49\"/>\r\n       <use x=\"190.869141\" xlink:href=\"#DejaVuSans-56\"/>\r\n      </g>\r\n     </g>\r\n    </g>\r\n    <g id=\"xtick_7\">\r\n     <g id=\"line2d_13\">\r\n      <path clip-path=\"url(#peac84deca2)\" d=\"M 770.760279 235.238437 \r\nL 770.760279 17.798437 \r\n\" style=\"fill:none;stroke:#ffffff;stroke-linecap:square;stroke-width:0.8;\"/>\r\n     </g>\r\n     <g id=\"line2d_14\">\r\n      <g>\r\n       <use style=\"fill:#555555;stroke:#555555;stroke-width:0.8;\" x=\"770.760279\" xlink:href=\"#m395928b077\" y=\"235.238437\"/>\r\n      </g>\r\n     </g>\r\n     <g id=\"text_7\">\r\n      <!-- 2020 -->\r\n      <g style=\"fill:#555555;\" transform=\"translate(758.035279 249.836875)scale(0.1 -0.1)\">\r\n       <use xlink:href=\"#DejaVuSans-50\"/>\r\n       <use x=\"63.623047\" xlink:href=\"#DejaVuSans-48\"/>\r\n       <use x=\"127.246094\" xlink:href=\"#DejaVuSans-50\"/>\r\n       <use x=\"190.869141\" xlink:href=\"#DejaVuSans-48\"/>\r\n      </g>\r\n     </g>\r\n    </g>\r\n   </g>\r\n   <g id=\"matplotlib.axis_2\">\r\n    <g id=\"ytick_1\">\r\n     <g id=\"line2d_15\">\r\n      <path clip-path=\"url(#peac84deca2)\" d=\"M 30.103125 211.893695 \r\nL 867.103125 211.893695 \r\n\" style=\"fill:none;stroke:#ffffff;stroke-linecap:square;stroke-width:0.8;\"/>\r\n     </g>\r\n     <g id=\"line2d_16\">\r\n      <defs>\r\n       <path d=\"M 0 0 \r\nL -3.5 0 \r\n\" id=\"m8f171380b0\" style=\"stroke:#555555;stroke-width:0.8;\"/>\r\n      </defs>\r\n      <g>\r\n       <use style=\"fill:#555555;stroke:#555555;stroke-width:0.8;\" x=\"30.103125\" xlink:href=\"#m8f171380b0\" y=\"211.893695\"/>\r\n      </g>\r\n     </g>\r\n     <g id=\"text_8\">\r\n      <!-- 0.8 -->\r\n      <g style=\"fill:#555555;\" transform=\"translate(7.2 215.692914)scale(0.1 -0.1)\">\r\n       <defs>\r\n        <path d=\"M 10.6875 12.40625 \r\nL 21 12.40625 \r\nL 21 0 \r\nL 10.6875 0 \r\nz\r\n\" id=\"DejaVuSans-46\"/>\r\n       </defs>\r\n       <use xlink:href=\"#DejaVuSans-48\"/>\r\n       <use x=\"63.623047\" xlink:href=\"#DejaVuSans-46\"/>\r\n       <use x=\"95.410156\" xlink:href=\"#DejaVuSans-56\"/>\r\n      </g>\r\n     </g>\r\n    </g>\r\n    <g id=\"ytick_2\">\r\n     <g id=\"line2d_17\">\r\n      <path clip-path=\"url(#peac84deca2)\" d=\"M 30.103125 181.281052 \r\nL 867.103125 181.281052 \r\n\" style=\"fill:none;stroke:#ffffff;stroke-linecap:square;stroke-width:0.8;\"/>\r\n     </g>\r\n     <g id=\"line2d_18\">\r\n      <g>\r\n       <use style=\"fill:#555555;stroke:#555555;stroke-width:0.8;\" x=\"30.103125\" xlink:href=\"#m8f171380b0\" y=\"181.281052\"/>\r\n      </g>\r\n     </g>\r\n     <g id=\"text_9\">\r\n      <!-- 1.0 -->\r\n      <g style=\"fill:#555555;\" transform=\"translate(7.2 185.080271)scale(0.1 -0.1)\">\r\n       <use xlink:href=\"#DejaVuSans-49\"/>\r\n       <use x=\"63.623047\" xlink:href=\"#DejaVuSans-46\"/>\r\n       <use x=\"95.410156\" xlink:href=\"#DejaVuSans-48\"/>\r\n      </g>\r\n     </g>\r\n    </g>\r\n    <g id=\"ytick_3\">\r\n     <g id=\"line2d_19\">\r\n      <path clip-path=\"url(#peac84deca2)\" d=\"M 30.103125 150.668409 \r\nL 867.103125 150.668409 \r\n\" style=\"fill:none;stroke:#ffffff;stroke-linecap:square;stroke-width:0.8;\"/>\r\n     </g>\r\n     <g id=\"line2d_20\">\r\n      <g>\r\n       <use style=\"fill:#555555;stroke:#555555;stroke-width:0.8;\" x=\"30.103125\" xlink:href=\"#m8f171380b0\" y=\"150.668409\"/>\r\n      </g>\r\n     </g>\r\n     <g id=\"text_10\">\r\n      <!-- 1.2 -->\r\n      <g style=\"fill:#555555;\" transform=\"translate(7.2 154.467628)scale(0.1 -0.1)\">\r\n       <use xlink:href=\"#DejaVuSans-49\"/>\r\n       <use x=\"63.623047\" xlink:href=\"#DejaVuSans-46\"/>\r\n       <use x=\"95.410156\" xlink:href=\"#DejaVuSans-50\"/>\r\n      </g>\r\n     </g>\r\n    </g>\r\n    <g id=\"ytick_4\">\r\n     <g id=\"line2d_21\">\r\n      <path clip-path=\"url(#peac84deca2)\" d=\"M 30.103125 120.055766 \r\nL 867.103125 120.055766 \r\n\" style=\"fill:none;stroke:#ffffff;stroke-linecap:square;stroke-width:0.8;\"/>\r\n     </g>\r\n     <g id=\"line2d_22\">\r\n      <g>\r\n       <use style=\"fill:#555555;stroke:#555555;stroke-width:0.8;\" x=\"30.103125\" xlink:href=\"#m8f171380b0\" y=\"120.055766\"/>\r\n      </g>\r\n     </g>\r\n     <g id=\"text_11\">\r\n      <!-- 1.4 -->\r\n      <g style=\"fill:#555555;\" transform=\"translate(7.2 123.854985)scale(0.1 -0.1)\">\r\n       <use xlink:href=\"#DejaVuSans-49\"/>\r\n       <use x=\"63.623047\" xlink:href=\"#DejaVuSans-46\"/>\r\n       <use x=\"95.410156\" xlink:href=\"#DejaVuSans-52\"/>\r\n      </g>\r\n     </g>\r\n    </g>\r\n    <g id=\"ytick_5\">\r\n     <g id=\"line2d_23\">\r\n      <path clip-path=\"url(#peac84deca2)\" d=\"M 30.103125 89.443123 \r\nL 867.103125 89.443123 \r\n\" style=\"fill:none;stroke:#ffffff;stroke-linecap:square;stroke-width:0.8;\"/>\r\n     </g>\r\n     <g id=\"line2d_24\">\r\n      <g>\r\n       <use style=\"fill:#555555;stroke:#555555;stroke-width:0.8;\" x=\"30.103125\" xlink:href=\"#m8f171380b0\" y=\"89.443123\"/>\r\n      </g>\r\n     </g>\r\n     <g id=\"text_12\">\r\n      <!-- 1.6 -->\r\n      <g style=\"fill:#555555;\" transform=\"translate(7.2 93.242342)scale(0.1 -0.1)\">\r\n       <use xlink:href=\"#DejaVuSans-49\"/>\r\n       <use x=\"63.623047\" xlink:href=\"#DejaVuSans-46\"/>\r\n       <use x=\"95.410156\" xlink:href=\"#DejaVuSans-54\"/>\r\n      </g>\r\n     </g>\r\n    </g>\r\n    <g id=\"ytick_6\">\r\n     <g id=\"line2d_25\">\r\n      <path clip-path=\"url(#peac84deca2)\" d=\"M 30.103125 58.83048 \r\nL 867.103125 58.83048 \r\n\" style=\"fill:none;stroke:#ffffff;stroke-linecap:square;stroke-width:0.8;\"/>\r\n     </g>\r\n     <g id=\"line2d_26\">\r\n      <g>\r\n       <use style=\"fill:#555555;stroke:#555555;stroke-width:0.8;\" x=\"30.103125\" xlink:href=\"#m8f171380b0\" y=\"58.83048\"/>\r\n      </g>\r\n     </g>\r\n     <g id=\"text_13\">\r\n      <!-- 1.8 -->\r\n      <g style=\"fill:#555555;\" transform=\"translate(7.2 62.629699)scale(0.1 -0.1)\">\r\n       <use xlink:href=\"#DejaVuSans-49\"/>\r\n       <use x=\"63.623047\" xlink:href=\"#DejaVuSans-46\"/>\r\n       <use x=\"95.410156\" xlink:href=\"#DejaVuSans-56\"/>\r\n      </g>\r\n     </g>\r\n    </g>\r\n    <g id=\"ytick_7\">\r\n     <g id=\"line2d_27\">\r\n      <path clip-path=\"url(#peac84deca2)\" d=\"M 30.103125 28.217837 \r\nL 867.103125 28.217837 \r\n\" style=\"fill:none;stroke:#ffffff;stroke-linecap:square;stroke-width:0.8;\"/>\r\n     </g>\r\n     <g id=\"line2d_28\">\r\n      <g>\r\n       <use style=\"fill:#555555;stroke:#555555;stroke-width:0.8;\" x=\"30.103125\" xlink:href=\"#m8f171380b0\" y=\"28.217837\"/>\r\n      </g>\r\n     </g>\r\n     <g id=\"text_14\">\r\n      <!-- 2.0 -->\r\n      <g style=\"fill:#555555;\" transform=\"translate(7.2 32.017056)scale(0.1 -0.1)\">\r\n       <use xlink:href=\"#DejaVuSans-50\"/>\r\n       <use x=\"63.623047\" xlink:href=\"#DejaVuSans-46\"/>\r\n       <use x=\"95.410156\" xlink:href=\"#DejaVuSans-48\"/>\r\n      </g>\r\n     </g>\r\n    </g>\r\n    <g id=\"text_15\">\r\n     <!-- 1e6 -->\r\n     <g style=\"fill:#555555;\" transform=\"translate(30.103125 14.798437)scale(0.1 -0.1)\">\r\n      <defs>\r\n       <path d=\"M 56.203125 29.59375 \r\nL 56.203125 25.203125 \r\nL 14.890625 25.203125 \r\nQ 15.484375 15.921875 20.484375 11.0625 \r\nQ 25.484375 6.203125 34.421875 6.203125 \r\nQ 39.59375 6.203125 44.453125 7.46875 \r\nQ 49.3125 8.734375 54.109375 11.28125 \r\nL 54.109375 2.78125 \r\nQ 49.265625 0.734375 44.1875 -0.34375 \r\nQ 39.109375 -1.421875 33.890625 -1.421875 \r\nQ 20.796875 -1.421875 13.15625 6.1875 \r\nQ 5.515625 13.8125 5.515625 26.8125 \r\nQ 5.515625 40.234375 12.765625 48.109375 \r\nQ 20.015625 56 32.328125 56 \r\nQ 43.359375 56 49.78125 48.890625 \r\nQ 56.203125 41.796875 56.203125 29.59375 \r\nz\r\nM 47.21875 32.234375 \r\nQ 47.125 39.59375 43.09375 43.984375 \r\nQ 39.0625 48.390625 32.421875 48.390625 \r\nQ 24.90625 48.390625 20.390625 44.140625 \r\nQ 15.875 39.890625 15.1875 32.171875 \r\nz\r\n\" id=\"DejaVuSans-101\"/>\r\n      </defs>\r\n      <use xlink:href=\"#DejaVuSans-49\"/>\r\n      <use x=\"63.623047\" xlink:href=\"#DejaVuSans-101\"/>\r\n      <use x=\"125.146484\" xlink:href=\"#DejaVuSans-54\"/>\r\n     </g>\r\n    </g>\r\n   </g>\r\n   <g id=\"line2d_29\">\r\n    <path clip-path=\"url(#peac84deca2)\" d=\"M 68.14858 223.168438 \r\nL 68.949368 225.354801 \r\nL 83.203401 225.354801 \r\nL 83.683874 216.558272 \r\nL 97.777749 216.558272 \r\nL 98.098064 209.964704 \r\nL 112.512254 209.964704 \r\nL 112.672412 209.502831 \r\nL 127.086602 209.502831 \r\nL 128.207706 218.609023 \r\nL 141.66095 218.609023 \r\nL 141.981265 211.346112 \r\nL 156.235298 211.346112 \r\nL 156.395456 203.805337 \r\nL 170.969804 203.805337 \r\nL 171.290119 193.450875 \r\nL 185.544152 193.450875 \r\nL 186.34494 198.669433 \r\nL 200.1185 198.669433 \r\nL 200.278657 189.830392 \r\nL 214.692848 189.830392 \r\nL 214.853005 181.597167 \r\nL 229.427353 181.597167 \r\nL 230.228142 172.499841 \r\nL 244.001701 172.499841 \r\nL 244.642332 178.750816 \r\nL 258.576049 178.750816 \r\nL 258.736207 168.008598 \r\nL 273.150397 168.008598 \r\nL 273.310555 164.086815 \r\nL 287.884903 164.086815 \r\nL 288.365376 156.667739 \r\nL 302.299093 156.667739 \r\nL 303.099882 161.463334 \r\nL 317.033599 161.463334 \r\nL 317.834387 153.251261 \r\nL 331.607947 153.251261 \r\nL 332.08842 146.007812 \r\nL 346.182295 146.007812 \r\nL 346.662768 139.692015 \r\nL 360.756643 139.692015 \r\nL 361.557431 144.298834 \r\nL 375.170833 144.298834 \r\nL 375.811464 131.905886 \r\nL 389.905339 131.905886 \r\nL 390.385812 127.076164 \r\nL 404.96016 127.076164 \r\nL 405.120318 118.021439 \r\nL 419.534508 118.021439 \r\nL 420.815769 122.201787 \r\nL 434.108856 122.201787 \r\nL 434.429171 116.639336 \r\nL 448.683204 116.639336 \r\nL 448.843362 110.546613 \r\nL 463.417709 110.546613 \r\nL 463.577867 103.444207 \r\nL 477.992057 103.444207 \r\nL 479.113161 111.381558 \r\nL 492.566405 111.381558 \r\nL 492.886721 107.813629 \r\nL 507.140753 107.813629 \r\nL 507.300911 103.490223 \r\nL 521.875259 103.490223 \r\nL 522.195574 96.957222 \r\nL 536.449607 96.957222 \r\nL 537.250395 104.714895 \r\nL 551.184113 104.714895 \r\nL 551.34427 95.720015 \r\nL 565.758461 95.720015 \r\nL 565.918618 92.934997 \r\nL 580.492966 92.934997 \r\nL 580.973439 84.403661 \r\nL 594.907157 84.403661 \r\nL 595.707945 91.590689 \r\nL 609.641662 91.590689 \r\nL 610.282293 84.707908 \r\nL 624.21601 84.707908 \r\nL 624.696483 82.008668 \r\nL 638.790358 82.008668 \r\nL 639.270831 71.075214 \r\nL 653.204549 71.075214 \r\nL 654.005337 77.065295 \r\nL 667.778897 77.065295 \r\nL 668.739843 69.016424 \r\nL 682.513402 69.016424 \r\nL 682.993875 63.676924 \r\nL 697.08775 63.676924 \r\nL 697.568223 55.542086 \r\nL 711.662098 55.542086 \r\nL 712.462887 64.090735 \r\nL 726.236446 64.090735 \r\nL 726.716919 53.570271 \r\nL 740.810794 53.570271 \r\nL 741.291267 45.972736 \r\nL 752.662462 45.972736 \r\nL 757.467192 40.000485 \r\nL 770.439963 40.000485 \r\nL 771.561067 52.116668 \r\nL 785.174469 52.116668 \r\nL 785.494784 72.796013 \r\nL 799.748817 72.796013 \r\nL 799.908974 44.789185 \r\nL 814.483322 44.789185 \r\nL 814.64348 27.682074 \r\nL 829.05767 27.682074 \r\nL 829.05767 27.682074 \r\n\" style=\"fill:none;stroke:#4c72b0;stroke-linecap:square;stroke-width:1.5;\"/>\r\n   </g>\r\n   <g id=\"patch_3\">\r\n    <path d=\"M 30.103125 235.238437 \r\nL 30.103125 17.798437 \r\n\" style=\"fill:none;stroke:#ffffff;stroke-linecap:square;stroke-linejoin:miter;\"/>\r\n   </g>\r\n   <g id=\"patch_4\">\r\n    <path d=\"M 867.103125 235.238437 \r\nL 867.103125 17.798437 \r\n\" style=\"fill:none;stroke:#ffffff;stroke-linecap:square;stroke-linejoin:miter;\"/>\r\n   </g>\r\n   <g id=\"patch_5\">\r\n    <path d=\"M 30.103125 235.238437 \r\nL 867.103125 235.238437 \r\n\" style=\"fill:none;stroke:#ffffff;stroke-linecap:square;stroke-linejoin:miter;\"/>\r\n   </g>\r\n   <g id=\"patch_6\">\r\n    <path d=\"M 30.103125 17.798437 \r\nL 867.103125 17.798437 \r\n\" style=\"fill:none;stroke:#ffffff;stroke-linecap:square;stroke-linejoin:miter;\"/>\r\n   </g>\r\n  </g>\r\n </g>\r\n <defs>\r\n  <clipPath id=\"peac84deca2\">\r\n   <rect height=\"217.44\" width=\"837\" x=\"30.103125\" y=\"17.798437\"/>\r\n  </clipPath>\r\n </defs>\r\n</svg>\r\n",
      "image/png": "[encoded data removed]"
     },
     "metadata": {}
    }
   ],
   "source": [
    "plt.plot(df['date'], df['GDP'])"
   ]
  },
  {
   "cell_type": "markdown",
   "metadata": {},
   "source": [
    "# Data Analysis"
   ]
  },
  {
   "cell_type": "code",
   "execution_count": null,
   "metadata": {},
   "outputs": [],
   "source": []
  }
 ],
 "metadata": {
  "kernelspec": {
   "display_name": "Python 3.8.5 64-bit ('venv')",
   "language": "python",
   "name": "python38564bitvenv104dd00143d2433ab4646c6731c6ec84"
  },
  "language_info": {
   "codemirror_mode": {
    "name": "ipython",
    "version": 3
   },
   "file_extension": ".py",
   "mimetype": "text/x-python",
   "name": "python",
   "nbconvert_exporter": "python",
   "pygments_lexer": "ipython3",
   "version": "3.8.5"
  }
 },
 "nbformat": 4,
 "nbformat_minor": 2
}