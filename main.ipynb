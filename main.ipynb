{
 "cells": [
  {
   "cell_type": "markdown",
   "metadata": {},
   "source": [
    "# The Impact of Lower Interest Rates in Brazilian Stock Market\n",
    "\n",
    "*By Daniel Deutsch, José Lucas Barretto, Kevin kühl and Lucas Miguel Agrizzi*"
   ]
  },
  {
   "cell_type": "code",
   "execution_count": 2,
   "metadata": {},
   "outputs": [],
   "source": [
    "import os\n",
    "import time\n",
    "from datetime import date\n",
    "\n",
    "import matplotlib.pyplot as plt\n",
    "import pandas as pd\n",
    "import requests\n",
    "import yfinance as yf\n",
    "from requests.packages.urllib3.exceptions import InsecureRequestWarning"
   ]
  },
  {
   "cell_type": "code",
   "execution_count": 2,
   "metadata": {},
   "outputs": [],
   "source": [
    "requests.packages.urllib3.disable_warnings(InsecureRequestWarning)"
   ]
  },
  {
   "cell_type": "markdown",
   "metadata": {},
   "source": [
    "# Data Collection\n",
    "\n",
    "In this stage, we want to collect the data necessary for our analysis. In our case, we must collect two kinds of data: Indexes of (which kind? why?) and stock information about the indexes."
   ]
  },
  {
   "cell_type": "markdown",
   "metadata": {},
   "source": [
    "## Sector Indexes\n",
    "\n",
    "Indexes are basically .... (explicar o que são indexes e porque eles serão utilizados na nossa análise).\n",
    "\n",
    "Given that, the group decided to understand the effects of the index rate on the following indexes (because we considered them the most influential in the brazillian market):\n",
    "\n",
    "| Index &emsp;  | Index Name                         | Sector           |\n",
    "|:--------------|:-----------------------------------|:-----------------|\n",
    "| `ICON`        | Índice de Consumo                  | Cyclical consumption, non-cyclical consumption and health |\n",
    "| `IEEX`        | Índice de Energia Elétrica &emsp;  | Electricity |\n",
    "| `IFNC`        | Índice Financeiro                  | Financial intermediaries, miscellaneous financial services, pension and insurance |\n",
    "| `IMAT`        | Índice de Materiais Básicos        | Basic materials |\n",
    "| `IMOB`        | Índice Imobiliário                 | Real estate and civil construction |\n",
    "| `INDX`        | Índice Industrial                  | Basic materials, industrial goods, cyclical consumption, non-cyclical consumption, information technology and health |\n",
    "| `UTIL`        | Índice Utilidade Pública           | Electricity, water and sanitation and gas |"
   ]
  },
  {
   "cell_type": "code",
   "execution_count": 3,
   "metadata": {
    "tags": []
   },
   "outputs": [
    {
     "name": "stdout",
     "output_type": "stream",
     "text": [
      "Progress indexes 7/7 years 24/24 df_size 48360"
     ]
    }
   ],
   "source": [
    "indexes = [\n",
    "    { 'index': \"ICON\", 'url_code': \"klDT04\" },\n",
    "    { 'index': \"IEEX\", 'url_code': \"klFRVg\" },\n",
    "    { 'index': \"IFNC\", 'url_code': \"klGTkM\" },\n",
    "    { 'index': \"IMAT\", 'url_code': \"klNQVQ\" },\n",
    "    { 'index': \"IMOB\", 'url_code': \"klNT0I\" },\n",
    "    { 'index': \"INDX\", 'url_code': \"klORFg\" },\n",
    "    { 'index': \"UTIL\", 'url_code': \"lVUSUw\" }\n",
    "]\n",
    "\n",
    "years = [\n",
    "    { 'year': \"2021\", 'url_code': \"IwMjE\" },\n",
    "    { 'year': \"2020\", 'url_code': \"IwMjA\" },\n",
    "    { 'year': \"2019\", 'url_code': \"IwMTk\" },\n",
    "    { 'year': \"2018\", 'url_code': \"IwMTg\" },\n",
    "    { 'year': \"2017\", 'url_code': \"IwMTc\" },\n",
    "    { 'year': \"2016\", 'url_code': \"IwMTY\" },\n",
    "    { 'year': \"2015\", 'url_code': \"IwMTU\" },\n",
    "    { 'year': \"2014\", 'url_code': \"IwMTQ\" },\n",
    "    { 'year': \"2013\", 'url_code': \"IwMTM\" },\n",
    "    { 'year': \"2012\", 'url_code': \"IwMTI\" },\n",
    "    { 'year': \"2011\", 'url_code': \"IwMTE\" },\n",
    "    { 'year': \"2010\", 'url_code': \"IwMTA\" },\n",
    "    { 'year': \"2009\", 'url_code': \"IwMDk\" },\n",
    "    { 'year': \"2008\", 'url_code': \"IwMDg\" },\n",
    "    { 'year': \"2007\", 'url_code': \"IwMDc\" },\n",
    "    { 'year': \"2006\", 'url_code': \"IwMDY\" },\n",
    "    { 'year': \"2005\", 'url_code': \"IwMDU\" },\n",
    "    { 'year': \"2004\", 'url_code': \"IwMDQ\" },\n",
    "    { 'year': \"2003\", 'url_code': \"IwMDM\" },\n",
    "    { 'year': \"2002\", 'url_code': \"IwMDI\" },\n",
    "    { 'year': \"2001\", 'url_code': \"IwMDE\" },\n",
    "    { 'year': \"2000\", 'url_code': \"IwMDA\" },\n",
    "    { 'year': \"1999\", 'url_code': \"E5OTk\" },\n",
    "    { 'year': \"1998\", 'url_code': \"E5OTg\" }\n",
    "]\n",
    "\n",
    "url_sectors = \"https://sistemaswebb3-listados.b3.com.br/indexStatisticsProxy/IndexCall/GetPortfolioDay/eyJpbmRleCI6I%siLCJsYW5ndWFnZSI6InB0LWJyIiwieWVhciI6Ij%sifQ==\"\n",
    "\n",
    "df = pd.DataFrame()\n",
    "for i_id, index in enumerate(indexes):\n",
    "    for y_id, year in enumerate(years):\n",
    "        r = requests.get(url_sectors % (index['url_code'], year['url_code']), verify=False)\n",
    "        try:\n",
    "            print(f\"\\rProgress indexes {i_id+1}/{len(indexes)} years {y_id+1}/{len(years)} df_size {df.shape[0]}\", end=\"\")\n",
    "            r = r.json()\n",
    "        except Exception:\n",
    "            print(f\"Error with index {index['index']} year {year['year']}\")\n",
    "        else:\n",
    "            if r['results']:\n",
    "                for result in r['results']:\n",
    "                    day = result['day']\n",
    "                    for key, val in result.items():\n",
    "                        if key != \"day\":\n",
    "                            date = f\"{year['year']}-{int(key[9:]):02d}-{day:02d}\"\n",
    "                            rate_value = float(val.replace('.', '').replace(',', '.')) if val else pd.NA\n",
    "                            df_new = pd.DataFrame({ 'date': [date], 'index': [index['index']], 'rate_value': [rate_value] })\n",
    "                            df = pd.concat([df, df_new], ignore_index=True)\n",
    "\n",
    "df.dropna(inplace=True)\n",
    "df.sort_values(by=['date', 'index', 'rate_value'], inplace=True, ignore_index=True)\n",
    "df.to_csv(\"./datasets/sector_indexes.csv.zip\")"
   ]
  },
  {
   "cell_type": "markdown",
   "metadata": {},
   "source": [
    "### Volatility Index"
   ]
  },
  {
   "cell_type": "code",
   "execution_count": 66,
   "metadata": {},
   "outputs": [
    {
     "name": "stdout",
     "output_type": "stream",
     "text": [
      "[*********************100%***********************]  1 of 1 completed\n"
     ]
    }
   ],
   "source": [
    "df_vix = yf.download(\"^VIX\", period='max', interval='1d')\n",
    "df_vix.reset_index(level=0, inplace=True)\n",
    "df_vix.rename(columns={'Adj Close': 'rate_value', 'Date': 'date'}, inplace=True)\n",
    "df_vix = df_vix[:][['date', 'rate_value']]\n",
    "df_vix['index'] = 'vix'\n",
    "df_vix.sort_values(by=['date', 'index', 'rate_value'], inplace=True, ignore_index=True)"
   ]
  },
  {
   "cell_type": "markdown",
   "metadata": {},
   "source": [
    "### Macroeconomic Indicators"
   ]
  },
  {
   "cell_type": "markdown",
   "metadata": {},
   "source": [
    "#### Interest Rate (SELIC)"
   ]
  },
  {
   "cell_type": "code",
   "execution_count": 44,
   "metadata": {},
   "outputs": [],
   "source": [
    "url_selic = \"http://api.bcb.gov.br/dados/serie/bcdata.sgs.11/dados?formato=csv\"\n",
    "df_selic = pd.read_csv(\n",
    "    url_selic, \n",
    "    delimiter=';',\n",
    "    header=0, \n",
    "    names = ['date', 'rate_value'], \n",
    "    decimal=',',\n",
    "    parse_dates=[0]\n",
    ")\n",
    "df_selic['index'] = 'selic'\n",
    "df_selic.sort_values(by=['date', 'index', 'rate_value'], inplace=True, ignore_index=True)"
   ]
  },
  {
   "cell_type": "markdown",
   "metadata": {},
   "source": [
    "#### Inflation Rate (IPCA)"
   ]
  },
  {
   "cell_type": "code",
   "execution_count": 36,
   "metadata": {},
   "outputs": [],
   "source": [
    "url_ipca = \"https://apisidra.ibge.gov.br/values/t/1737/n1/all/v/all/p/all/d/v63%202,v69%202,v2266%2013,v2263%202,v2264%202,v2265%202?formato=json\"\n",
    "\n",
    "df_ipca = pd.read_json(url_ipca)\n",
    "df_ipca.drop([0], inplace=True)\n",
    "\n",
    "mask = (df_ipca['MN'] == '%')\n",
    "df_ipca = df_ipca[mask]\n",
    "\n",
    "df_ipca.rename(columns={'D3C': 'date'}, inplace=True)\n",
    "df_ipca['date'] = pd.to_datetime(df_ipca['date'], format='%Y%m')\n",
    "df_ipca['V'] = pd.to_numeric(df_ipca['V'])\n",
    "\n",
    "mask = (df_ipca['D2N'] == 'IPCA - Variação mensal')\n",
    "ipca_pct_change = df_ipca[mask][['date', 'V']].rename(columns={'V': 'rate_value'})\n",
    "ipca_pct_change['index'] = 'ipca_pct'\n",
    "\n",
    "mask = (df_ipca['D2N'] == 'IPCA - Variação acumulada no ano')\n",
    "ipca_annual_cumulative = df_ipca[mask][['date', 'V']].rename(columns={'V': 'rate_value'})\n",
    "ipca_annual_cumulative['index'] = 'ipca_cum'\n",
    "\n",
    "df_ipca = pd.concat([ipca_pct_change, ipca_annual_cumulative], axis=0)\n",
    "df_ipca.sort_values(by=['date', 'index', 'rate_value'], inplace=True, ignore_index=True)"
   ]
  },
  {
   "cell_type": "markdown",
   "metadata": {},
   "source": [
    "# Data Analysis"
   ]
  }
 ],
 "metadata": {
  "kernelspec": {
   "display_name": "Python [conda env:study] *",
   "language": "python",
   "name": "conda-env-study-py"
  },
  "language_info": {
   "codemirror_mode": {
    "name": "ipython",
    "version": 3
   },
   "file_extension": ".py",
   "mimetype": "text/x-python",
   "name": "python",
   "nbconvert_exporter": "python",
   "pygments_lexer": "ipython3",
   "version": "3.7.9"
  }
 },
 "nbformat": 4,
 "nbformat_minor": 2
}
