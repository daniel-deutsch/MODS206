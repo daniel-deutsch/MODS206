{
 "cells": [
  {
   "cell_type": "markdown",
   "metadata": {},
   "source": [
    "# The Impact of Lower Interest Rates in Brazilian Stock Market\n",
    "\n",
    "*By Daniel Deutsch, José Lucas Barretto, Kevin kuhl and Lucas Miguel Agrizzi*"
   ]
  },
  {
   "cell_type": "code",
   "execution_count": 1,
   "metadata": {},
   "outputs": [],
   "source": [
    "import os\n",
    "import time\n",
    "from datetime import date\n",
    "\n",
    "import matplotlib.pyplot as plt\n",
    "import pandas as pd\n",
    "import requests\n",
    "import yfinance as yf\n",
    "from requests.packages.urllib3.exceptions import InsecureRequestWarning"
   ]
  },
  {
   "cell_type": "code",
   "execution_count": 2,
   "metadata": {},
   "outputs": [],
   "source": [
    "requests.packages.urllib3.disable_warnings(InsecureRequestWarning)"
   ]
  },
  {
   "cell_type": "markdown",
   "metadata": {},
   "source": [
    "# Data Collection\n",
    "\n",
    "In this stage, we want to collect the data necessary for our analysis. In our case, we must collect two kinds of data: Indexes of (which kind? why?) and stock information about the indexes."
   ]
  },
  {
   "source": [
    "## Indexes Collection\n",
    "\n",
    "Indexes are basically .... (explicar o que são indexes e porque eles serão utilizados na nossa análise).\n",
    "\n",
    "Given that, the group decided to understand the effects of the index rate on the following indexes (because we considered them the most influential in the brazillian market):\n",
    "\n",
    "| Index Acronym | Index Name                  | URL           | Sector  |\n",
    "|:------------- |:----------------------------|:--------------|:-------|\n",
    "| ICON          | Índice de Consumo           | right-aligned | $1600 |\n",
    "| IEEX          | Índice de Energia Elétrica  | centered      |   $12 |\n",
    "| IFNC          | Índice Financeiro           | are neat      |    $1 |\n",
    "| IMAT          | Índice de Materiais Básicos | are neat      |    $1 |\n",
    "| IMOB          | Índice Imobiliário          | are neat      |    $1 |\n",
    "| INDX          | Índice Industrial           | are neat      |    $1 |\n",
    "| UTIL          | Índice Utilidade Pública    | are neat      |    $1 |"
   ],
   "cell_type": "markdown",
   "metadata": {}
  },
  {
   "cell_type": "code",
   "execution_count": 4,
   "metadata": {
    "tags": []
   },
   "outputs": [
    {
     "output_type": "stream",
     "name": "stdout",
     "text": [
      "Indexes: 7/7 Years: 24/24"
     ]
    }
   ],
   "source": [
    "indexes = [\n",
    "    { 'index': \"ICON\", 'url_code': \"klDT04\" },\n",
    "    { 'index': \"IEEX\", 'url_code': \"klFRVg\" },\n",
    "    { 'index': \"IFNC\", 'url_code': \"klGTkM\" },\n",
    "    { 'index': \"IMAT\", 'url_code': \"klNQVQ\" },\n",
    "    { 'index': \"IMOB\", 'url_code': \"klNT0I\" },\n",
    "    { 'index': \"INDX\", 'url_code': \"klORFg\" },\n",
    "    { 'index': \"UTIL\", 'url_code': \"lVUSUw\" }\n",
    "]\n",
    "\n",
    "years = [\n",
    "    { 'year': \"2021\", 'url_code': \"IwMjE\" },\n",
    "    { 'year': \"2020\", 'url_code': \"IwMjA\" },\n",
    "    { 'year': \"2019\", 'url_code': \"IwMTk\" },\n",
    "    { 'year': \"2018\", 'url_code': \"IwMTg\" },\n",
    "    { 'year': \"2017\", 'url_code': \"IwMTc\" },\n",
    "    { 'year': \"2016\", 'url_code': \"IwMTY\" },\n",
    "    { 'year': \"2015\", 'url_code': \"IwMTU\" },\n",
    "    { 'year': \"2014\", 'url_code': \"IwMTQ\" },\n",
    "    { 'year': \"2013\", 'url_code': \"IwMTM\" },\n",
    "    { 'year': \"2012\", 'url_code': \"IwMTI\" },\n",
    "    { 'year': \"2011\", 'url_code': \"IwMTE\" },\n",
    "    { 'year': \"2010\", 'url_code': \"IwMTA\" },\n",
    "    { 'year': \"2009\", 'url_code': \"IwMDk\" },\n",
    "    { 'year': \"2008\", 'url_code': \"IwMDg\" },\n",
    "    { 'year': \"2007\", 'url_code': \"IwMDc\" },\n",
    "    { 'year': \"2006\", 'url_code': \"IwMDY\" },\n",
    "    { 'year': \"2005\", 'url_code': \"IwMDU\" },\n",
    "    { 'year': \"2004\", 'url_code': \"IwMDQ\" },\n",
    "    { 'year': \"2003\", 'url_code': \"IwMDM\" },\n",
    "    { 'year': \"2002\", 'url_code': \"IwMDI\" },\n",
    "    { 'year': \"2001\", 'url_code': \"IwMDE\" },\n",
    "    { 'year': \"2000\", 'url_code': \"IwMDA\" },\n",
    "    { 'year': \"1999\", 'url_code': \"E5OTk\" },\n",
    "    { 'year': \"1998\", 'url_code': \"E5OTg\" }\n",
    "]\n",
    "\n",
    "url_base = \"https://sistemaswebb3-listados.b3.com.br/indexStatisticsProxy/IndexCall/GetPortfolioDay/eyJpbmRleCI6I%siLCJsYW5ndWFnZSI6InB0LWJyIiwieWVhciI6Ij%sifQ==\"\n",
    "\n",
    "df = pd.DataFrame(columns=['date', 'index', 'rate_value'])\n",
    "for i_id, index in enumerate(indexes):\n",
    "    for y_id, year in enumerate(years):\n",
    "        #time.sleep(2)\n",
    "        r = requests.get(url_base % (index['url_code'], year['url_code']), verify=False)\n",
    "        try:\n",
    "            print(f\"\\rIndexes: {i_id+1}/{len(indexes)} Years: {y_id+1}/{len(years)}\", end=\"\")\n",
    "            r = r.json()\n",
    "        except Exception:\n",
    "            print(f\"Error with index {index['index']} year {year['year']}\")\n",
    "        else:\n",
    "            if r['results']:\n",
    "                for result in r['results']:\n",
    "                    day = result['day']\n",
    "                    for key, val in result.items():\n",
    "                        if key != \"day\":\n",
    "                            df = pd.concat(\n",
    "                                [\n",
    "                                    df, \n",
    "                                    pd.DataFrame({\n",
    "                                        'date': f\"{year['year']}-{int(key[9:]):02d}-{day:02d}\", \n",
    "                                        'index': [index['index']], \n",
    "                                        'rate_value': [float(val.replace('.', '').replace(',', '.'))] if val else [val]\n",
    "                                    })\n",
    "                                ], \n",
    "                                ignore_index=True\n",
    "                            )\n",
    "\n",
    "df.dropna(inplace=True)\n",
    "df.sort_values(by=['date', 'index', 'rate_value'], inplace=True, ignore_index=True)\n",
    "df.to_csv(\"./datasets/indexes.csv.zip\")"
   ]
  },
  {
   "cell_type": "code",
   "execution_count": 147,
   "metadata": {},
   "outputs": [],
   "source": [
    "index_dict = {}\n",
    "for index in index_data['Index'].unique():\n",
    "    mask = index_data['Index'] == index\n",
    "    columns = index_data[mask]['Código']\n",
    "    index_dict[index] = columns.to_list()"
   ]
  },
  {
   "cell_type": "code",
   "execution_count": 131,
   "metadata": {},
   "outputs": [
    {
     "name": "stdout",
     "output_type": "stream",
     "text": [
      "[*********************100%***********************]  136 of 136 completed\n"
     ]
    }
   ],
   "source": [
    "# gets stock data from yahoo finance\n",
    "stock_data = yf.download(tickers = index_data['Código'].to_list(), period='max', interval = \"1d\")"
   ]
  },
  {
   "cell_type": "markdown",
   "metadata": {},
   "source": [
    "# Data Analysis"
   ]
  }
 ],
 "metadata": {
  "kernelspec": {
   "display_name": "Python 3.8.5 64-bit ('venv')",
   "language": "python",
   "name": "python38564bitvenv104dd00143d2433ab4646c6731c6ec84"
  },
  "language_info": {
   "codemirror_mode": {
    "name": "ipython",
    "version": 3
   },
   "file_extension": ".py",
   "mimetype": "text/x-python",
   "name": "python",
   "nbconvert_exporter": "python",
   "pygments_lexer": "ipython3",
   "version": "3.8.5-final"
  }
 },
 "nbformat": 4,
 "nbformat_minor": 2
}